{
 "cells": [
  {
   "cell_type": "markdown",
   "metadata": {
    "id": "_2SVpvK3jqdo"
   },
   "source": [
    "# Importing Modules"
   ]
  },
  {
   "cell_type": "code",
   "execution_count": 65,
   "metadata": {
    "executionInfo": {
     "elapsed": 668,
     "status": "ok",
     "timestamp": 1636368889746,
     "user": {
      "displayName": "Aastha IIITD",
      "photoUrl": "https://lh3.googleusercontent.com/a-/AOh14GiLraMOSGhp36GfNRW9pA30-8inCgO3YzOMmuDksQ=s64",
      "userId": "17611466845080095343"
     },
     "user_tz": -330
    },
    "id": "svdasjARhQdX"
   },
   "outputs": [],
   "source": [
    "import pandas as pd\n",
    "import numpy as np \n",
    "import matplotlib.pyplot as plt\n",
    "from sklearn.preprocessing import StandardScaler, OneHotEncoder , LabelEncoder , MinMaxScaler \n",
    "from sklearn.model_selection import train_test_split , GridSearchCV , cross_validate \n",
    "from sklearn.linear_model import LogisticRegression\n",
    "from sklearn.metrics import accuracy_score , precision_score , recall_score , confusion_matrix , f1_score , roc_curve , auc \n",
    "import warnings \n",
    "from sklearn.exceptions import FitFailedWarning\n",
    "warnings.simplefilter('ignore' , FitFailedWarning )"
   ]
  },
  {
   "cell_type": "markdown",
   "metadata": {
    "id": "8xfMmoLAjyJj"
   },
   "source": [
    "# Importing Dataset"
   ]
  },
  {
   "cell_type": "code",
   "execution_count": 43,
   "metadata": {
    "executionInfo": {
     "elapsed": 12,
     "status": "ok",
     "timestamp": 1636368890596,
     "user": {
      "displayName": "Aastha IIITD",
      "photoUrl": "https://lh3.googleusercontent.com/a-/AOh14GiLraMOSGhp36GfNRW9pA30-8inCgO3YzOMmuDksQ=s64",
      "userId": "17611466845080095343"
     },
     "user_tz": -330
    },
    "id": "1oC43f6mjvpO"
   },
   "outputs": [],
   "source": [
    "df = pd.read_csv('WA_Fn-UseC_-HR-Employee-Attrition.csv')"
   ]
  },
  {
   "cell_type": "code",
   "execution_count": 44,
   "metadata": {
    "colab": {
     "base_uri": "https://localhost:8080/",
     "height": 309
    },
    "executionInfo": {
     "elapsed": 11,
     "status": "ok",
     "timestamp": 1636368890596,
     "user": {
      "displayName": "Aastha IIITD",
      "photoUrl": "https://lh3.googleusercontent.com/a-/AOh14GiLraMOSGhp36GfNRW9pA30-8inCgO3YzOMmuDksQ=s64",
      "userId": "17611466845080095343"
     },
     "user_tz": -330
    },
    "id": "Bx6Q6cb_j695",
    "outputId": "9bcad873-d6dd-4955-de61-34b30a7b80e7"
   },
   "outputs": [
    {
     "data": {
      "text/html": [
       "<div>\n",
       "<style scoped>\n",
       "    .dataframe tbody tr th:only-of-type {\n",
       "        vertical-align: middle;\n",
       "    }\n",
       "\n",
       "    .dataframe tbody tr th {\n",
       "        vertical-align: top;\n",
       "    }\n",
       "\n",
       "    .dataframe thead th {\n",
       "        text-align: right;\n",
       "    }\n",
       "</style>\n",
       "<table border=\"1\" class=\"dataframe\">\n",
       "  <thead>\n",
       "    <tr style=\"text-align: right;\">\n",
       "      <th></th>\n",
       "      <th>Age</th>\n",
       "      <th>Attrition</th>\n",
       "      <th>BusinessTravel</th>\n",
       "      <th>DailyRate</th>\n",
       "      <th>Department</th>\n",
       "      <th>DistanceFromHome</th>\n",
       "      <th>Education</th>\n",
       "      <th>EducationField</th>\n",
       "      <th>EmployeeCount</th>\n",
       "      <th>EmployeeNumber</th>\n",
       "      <th>...</th>\n",
       "      <th>RelationshipSatisfaction</th>\n",
       "      <th>StandardHours</th>\n",
       "      <th>StockOptionLevel</th>\n",
       "      <th>TotalWorkingYears</th>\n",
       "      <th>TrainingTimesLastYear</th>\n",
       "      <th>WorkLifeBalance</th>\n",
       "      <th>YearsAtCompany</th>\n",
       "      <th>YearsInCurrentRole</th>\n",
       "      <th>YearsSinceLastPromotion</th>\n",
       "      <th>YearsWithCurrManager</th>\n",
       "    </tr>\n",
       "  </thead>\n",
       "  <tbody>\n",
       "    <tr>\n",
       "      <th>0</th>\n",
       "      <td>41</td>\n",
       "      <td>Yes</td>\n",
       "      <td>Travel_Rarely</td>\n",
       "      <td>1102</td>\n",
       "      <td>Sales</td>\n",
       "      <td>1</td>\n",
       "      <td>2</td>\n",
       "      <td>Life Sciences</td>\n",
       "      <td>1</td>\n",
       "      <td>1</td>\n",
       "      <td>...</td>\n",
       "      <td>1</td>\n",
       "      <td>80</td>\n",
       "      <td>0</td>\n",
       "      <td>8</td>\n",
       "      <td>0</td>\n",
       "      <td>1</td>\n",
       "      <td>6</td>\n",
       "      <td>4</td>\n",
       "      <td>0</td>\n",
       "      <td>5</td>\n",
       "    </tr>\n",
       "    <tr>\n",
       "      <th>1</th>\n",
       "      <td>49</td>\n",
       "      <td>No</td>\n",
       "      <td>Travel_Frequently</td>\n",
       "      <td>279</td>\n",
       "      <td>Research &amp; Development</td>\n",
       "      <td>8</td>\n",
       "      <td>1</td>\n",
       "      <td>Life Sciences</td>\n",
       "      <td>1</td>\n",
       "      <td>2</td>\n",
       "      <td>...</td>\n",
       "      <td>4</td>\n",
       "      <td>80</td>\n",
       "      <td>1</td>\n",
       "      <td>10</td>\n",
       "      <td>3</td>\n",
       "      <td>3</td>\n",
       "      <td>10</td>\n",
       "      <td>7</td>\n",
       "      <td>1</td>\n",
       "      <td>7</td>\n",
       "    </tr>\n",
       "    <tr>\n",
       "      <th>2</th>\n",
       "      <td>37</td>\n",
       "      <td>Yes</td>\n",
       "      <td>Travel_Rarely</td>\n",
       "      <td>1373</td>\n",
       "      <td>Research &amp; Development</td>\n",
       "      <td>2</td>\n",
       "      <td>2</td>\n",
       "      <td>Other</td>\n",
       "      <td>1</td>\n",
       "      <td>4</td>\n",
       "      <td>...</td>\n",
       "      <td>2</td>\n",
       "      <td>80</td>\n",
       "      <td>0</td>\n",
       "      <td>7</td>\n",
       "      <td>3</td>\n",
       "      <td>3</td>\n",
       "      <td>0</td>\n",
       "      <td>0</td>\n",
       "      <td>0</td>\n",
       "      <td>0</td>\n",
       "    </tr>\n",
       "    <tr>\n",
       "      <th>3</th>\n",
       "      <td>33</td>\n",
       "      <td>No</td>\n",
       "      <td>Travel_Frequently</td>\n",
       "      <td>1392</td>\n",
       "      <td>Research &amp; Development</td>\n",
       "      <td>3</td>\n",
       "      <td>4</td>\n",
       "      <td>Life Sciences</td>\n",
       "      <td>1</td>\n",
       "      <td>5</td>\n",
       "      <td>...</td>\n",
       "      <td>3</td>\n",
       "      <td>80</td>\n",
       "      <td>0</td>\n",
       "      <td>8</td>\n",
       "      <td>3</td>\n",
       "      <td>3</td>\n",
       "      <td>8</td>\n",
       "      <td>7</td>\n",
       "      <td>3</td>\n",
       "      <td>0</td>\n",
       "    </tr>\n",
       "    <tr>\n",
       "      <th>4</th>\n",
       "      <td>27</td>\n",
       "      <td>No</td>\n",
       "      <td>Travel_Rarely</td>\n",
       "      <td>591</td>\n",
       "      <td>Research &amp; Development</td>\n",
       "      <td>2</td>\n",
       "      <td>1</td>\n",
       "      <td>Medical</td>\n",
       "      <td>1</td>\n",
       "      <td>7</td>\n",
       "      <td>...</td>\n",
       "      <td>4</td>\n",
       "      <td>80</td>\n",
       "      <td>1</td>\n",
       "      <td>6</td>\n",
       "      <td>3</td>\n",
       "      <td>3</td>\n",
       "      <td>2</td>\n",
       "      <td>2</td>\n",
       "      <td>2</td>\n",
       "      <td>2</td>\n",
       "    </tr>\n",
       "  </tbody>\n",
       "</table>\n",
       "<p>5 rows × 35 columns</p>\n",
       "</div>"
      ],
      "text/plain": [
       "   Age Attrition     BusinessTravel  DailyRate              Department  \\\n",
       "0   41       Yes      Travel_Rarely       1102                   Sales   \n",
       "1   49        No  Travel_Frequently        279  Research & Development   \n",
       "2   37       Yes      Travel_Rarely       1373  Research & Development   \n",
       "3   33        No  Travel_Frequently       1392  Research & Development   \n",
       "4   27        No      Travel_Rarely        591  Research & Development   \n",
       "\n",
       "   DistanceFromHome  Education EducationField  EmployeeCount  EmployeeNumber  \\\n",
       "0                 1          2  Life Sciences              1               1   \n",
       "1                 8          1  Life Sciences              1               2   \n",
       "2                 2          2          Other              1               4   \n",
       "3                 3          4  Life Sciences              1               5   \n",
       "4                 2          1        Medical              1               7   \n",
       "\n",
       "   ...  RelationshipSatisfaction StandardHours  StockOptionLevel  \\\n",
       "0  ...                         1            80                 0   \n",
       "1  ...                         4            80                 1   \n",
       "2  ...                         2            80                 0   \n",
       "3  ...                         3            80                 0   \n",
       "4  ...                         4            80                 1   \n",
       "\n",
       "   TotalWorkingYears  TrainingTimesLastYear WorkLifeBalance  YearsAtCompany  \\\n",
       "0                  8                      0               1               6   \n",
       "1                 10                      3               3              10   \n",
       "2                  7                      3               3               0   \n",
       "3                  8                      3               3               8   \n",
       "4                  6                      3               3               2   \n",
       "\n",
       "  YearsInCurrentRole  YearsSinceLastPromotion  YearsWithCurrManager  \n",
       "0                  4                        0                     5  \n",
       "1                  7                        1                     7  \n",
       "2                  0                        0                     0  \n",
       "3                  7                        3                     0  \n",
       "4                  2                        2                     2  \n",
       "\n",
       "[5 rows x 35 columns]"
      ]
     },
     "execution_count": 44,
     "metadata": {},
     "output_type": "execute_result"
    }
   ],
   "source": [
    "df.head()"
   ]
  },
  {
   "cell_type": "markdown",
   "metadata": {
    "id": "_mRm7fQ7mwvq"
   },
   "source": [
    "# Check Missing Values"
   ]
  },
  {
   "cell_type": "code",
   "execution_count": 45,
   "metadata": {
    "colab": {
     "base_uri": "https://localhost:8080/"
    },
    "executionInfo": {
     "elapsed": 10,
     "status": "ok",
     "timestamp": 1636368890596,
     "user": {
      "displayName": "Aastha IIITD",
      "photoUrl": "https://lh3.googleusercontent.com/a-/AOh14GiLraMOSGhp36GfNRW9pA30-8inCgO3YzOMmuDksQ=s64",
      "userId": "17611466845080095343"
     },
     "user_tz": -330
    },
    "id": "plrHD1Koj73G",
    "outputId": "d7075e1f-cf68-4578-e1b9-bceead010240"
   },
   "outputs": [
    {
     "data": {
      "text/plain": [
       "False"
      ]
     },
     "execution_count": 45,
     "metadata": {},
     "output_type": "execute_result"
    }
   ],
   "source": [
    "df.isna().any().any()   # 1st any for column , 2nd any for row"
   ]
  },
  {
   "cell_type": "markdown",
   "metadata": {
    "id": "ga-47TMSmzmq"
   },
   "source": [
    "# Encoding Categorical Values"
   ]
  },
  {
   "cell_type": "code",
   "execution_count": 46,
   "metadata": {
    "executionInfo": {
     "elapsed": 6,
     "status": "ok",
     "timestamp": 1636368890596,
     "user": {
      "displayName": "Aastha IIITD",
      "photoUrl": "https://lh3.googleusercontent.com/a-/AOh14GiLraMOSGhp36GfNRW9pA30-8inCgO3YzOMmuDksQ=s64",
      "userId": "17611466845080095343"
     },
     "user_tz": -330
    },
    "id": "qKzH-roNkh2h"
   },
   "outputs": [],
   "source": [
    "categorical_column = ['Attrition', 'BusinessTravel', 'Department','Gender', 'JobRole', 'MaritalStatus', 'OverTime','EducationField']\n",
    "\n",
    "encoder=LabelEncoder()\n",
    "df[categorical_column]=df[categorical_column].apply(encoder.fit_transform)"
   ]
  },
  {
   "cell_type": "markdown",
   "metadata": {
    "id": "6UkQJOPXn1bY"
   },
   "source": [
    "# Seperating into X and y"
   ]
  },
  {
   "cell_type": "code",
   "execution_count": 47,
   "metadata": {
    "executionInfo": {
     "elapsed": 6,
     "status": "ok",
     "timestamp": 1636368890596,
     "user": {
      "displayName": "Aastha IIITD",
      "photoUrl": "https://lh3.googleusercontent.com/a-/AOh14GiLraMOSGhp36GfNRW9pA30-8inCgO3YzOMmuDksQ=s64",
      "userId": "17611466845080095343"
     },
     "user_tz": -330
    },
    "id": "Z_F5HO95nRME"
   },
   "outputs": [],
   "source": [
    "y = df['Attrition']\n",
    "\n",
    "# axis =  1 for column  0 for row \n",
    "X = df.drop(['EmployeeCount','Attrition','EmployeeNumber','Over18','StandardHours'] , axis = 1 ) "
   ]
  },
  {
   "cell_type": "markdown",
   "metadata": {
    "id": "ON7ZM52roZi3"
   },
   "source": [
    "# Spliting into Train and Test Sets"
   ]
  },
  {
   "cell_type": "code",
   "execution_count": 48,
   "metadata": {
    "executionInfo": {
     "elapsed": 7,
     "status": "ok",
     "timestamp": 1636368890597,
     "user": {
      "displayName": "Aastha IIITD",
      "photoUrl": "https://lh3.googleusercontent.com/a-/AOh14GiLraMOSGhp36GfNRW9pA30-8inCgO3YzOMmuDksQ=s64",
      "userId": "17611466845080095343"
     },
     "user_tz": -330
    },
    "id": "s4lsXDvon7LE"
   },
   "outputs": [],
   "source": [
    "X_train , X_test , y_train , y_test = train_test_split(X , y , test_size = 0.3 , random_state = 1 )"
   ]
  },
  {
   "cell_type": "markdown",
   "metadata": {
    "id": "ia1hbZlteQrH"
   },
   "source": [
    "### Sample Row"
   ]
  },
  {
   "cell_type": "code",
   "execution_count": 49,
   "metadata": {
    "colab": {
     "base_uri": "https://localhost:8080/"
    },
    "executionInfo": {
     "elapsed": 7,
     "status": "ok",
     "timestamp": 1636368890597,
     "user": {
      "displayName": "Aastha IIITD",
      "photoUrl": "https://lh3.googleusercontent.com/a-/AOh14GiLraMOSGhp36GfNRW9pA30-8inCgO3YzOMmuDksQ=s64",
      "userId": "17611466845080095343"
     },
     "user_tz": -330
    },
    "id": "ICfHt9GEdTim",
    "outputId": "c02dd7c4-ea0c-47ec-969e-8ecc48d78c85"
   },
   "outputs": [
    {
     "data": {
      "text/html": [
       "<div>\n",
       "<style scoped>\n",
       "    .dataframe tbody tr th:only-of-type {\n",
       "        vertical-align: middle;\n",
       "    }\n",
       "\n",
       "    .dataframe tbody tr th {\n",
       "        vertical-align: top;\n",
       "    }\n",
       "\n",
       "    .dataframe thead th {\n",
       "        text-align: right;\n",
       "    }\n",
       "</style>\n",
       "<table border=\"1\" class=\"dataframe\">\n",
       "  <thead>\n",
       "    <tr style=\"text-align: right;\">\n",
       "      <th></th>\n",
       "      <th>Age</th>\n",
       "      <th>BusinessTravel</th>\n",
       "      <th>DailyRate</th>\n",
       "      <th>Department</th>\n",
       "      <th>DistanceFromHome</th>\n",
       "      <th>Education</th>\n",
       "      <th>EducationField</th>\n",
       "      <th>EnvironmentSatisfaction</th>\n",
       "      <th>Gender</th>\n",
       "      <th>HourlyRate</th>\n",
       "      <th>...</th>\n",
       "      <th>PerformanceRating</th>\n",
       "      <th>RelationshipSatisfaction</th>\n",
       "      <th>StockOptionLevel</th>\n",
       "      <th>TotalWorkingYears</th>\n",
       "      <th>TrainingTimesLastYear</th>\n",
       "      <th>WorkLifeBalance</th>\n",
       "      <th>YearsAtCompany</th>\n",
       "      <th>YearsInCurrentRole</th>\n",
       "      <th>YearsSinceLastPromotion</th>\n",
       "      <th>YearsWithCurrManager</th>\n",
       "    </tr>\n",
       "  </thead>\n",
       "  <tbody>\n",
       "    <tr>\n",
       "      <th>99</th>\n",
       "      <td>44</td>\n",
       "      <td>0</td>\n",
       "      <td>489</td>\n",
       "      <td>1</td>\n",
       "      <td>23</td>\n",
       "      <td>3</td>\n",
       "      <td>3</td>\n",
       "      <td>2</td>\n",
       "      <td>1</td>\n",
       "      <td>67</td>\n",
       "      <td>...</td>\n",
       "      <td>3</td>\n",
       "      <td>3</td>\n",
       "      <td>1</td>\n",
       "      <td>17</td>\n",
       "      <td>3</td>\n",
       "      <td>4</td>\n",
       "      <td>3</td>\n",
       "      <td>2</td>\n",
       "      <td>1</td>\n",
       "      <td>2</td>\n",
       "    </tr>\n",
       "    <tr>\n",
       "      <th>785</th>\n",
       "      <td>40</td>\n",
       "      <td>2</td>\n",
       "      <td>1492</td>\n",
       "      <td>1</td>\n",
       "      <td>20</td>\n",
       "      <td>4</td>\n",
       "      <td>5</td>\n",
       "      <td>1</td>\n",
       "      <td>1</td>\n",
       "      <td>61</td>\n",
       "      <td>...</td>\n",
       "      <td>4</td>\n",
       "      <td>4</td>\n",
       "      <td>1</td>\n",
       "      <td>14</td>\n",
       "      <td>6</td>\n",
       "      <td>3</td>\n",
       "      <td>11</td>\n",
       "      <td>10</td>\n",
       "      <td>11</td>\n",
       "      <td>1</td>\n",
       "    </tr>\n",
       "  </tbody>\n",
       "</table>\n",
       "<p>2 rows × 30 columns</p>\n",
       "</div>"
      ],
      "text/plain": [
       "     Age  BusinessTravel  DailyRate  Department  DistanceFromHome  Education  \\\n",
       "99    44               0        489           1                23          3   \n",
       "785   40               2       1492           1                20          4   \n",
       "\n",
       "     EducationField  EnvironmentSatisfaction  Gender  HourlyRate  ...  \\\n",
       "99                3                        2       1          67  ...   \n",
       "785               5                        1       1          61  ...   \n",
       "\n",
       "     PerformanceRating  RelationshipSatisfaction  StockOptionLevel  \\\n",
       "99                   3                         3                 1   \n",
       "785                  4                         4                 1   \n",
       "\n",
       "     TotalWorkingYears  TrainingTimesLastYear  WorkLifeBalance  \\\n",
       "99                  17                      3                4   \n",
       "785                 14                      6                3   \n",
       "\n",
       "     YearsAtCompany  YearsInCurrentRole  YearsSinceLastPromotion  \\\n",
       "99                3                   2                        1   \n",
       "785              11                  10                       11   \n",
       "\n",
       "     YearsWithCurrManager  \n",
       "99                      2  \n",
       "785                     1  \n",
       "\n",
       "[2 rows x 30 columns]"
      ]
     },
     "execution_count": 49,
     "metadata": {},
     "output_type": "execute_result"
    }
   ],
   "source": [
    "X_train.iloc[0:2]"
   ]
  },
  {
   "cell_type": "markdown",
   "metadata": {
    "id": "fY9xDCh4qSvO"
   },
   "source": [
    "# Feature Scaling"
   ]
  },
  {
   "cell_type": "markdown",
   "metadata": {
    "id": "Hw4EQ8wxuPNo"
   },
   "source": [
    "Standardization"
   ]
  },
  {
   "cell_type": "code",
   "execution_count": 50,
   "metadata": {
    "executionInfo": {
     "elapsed": 6,
     "status": "ok",
     "timestamp": 1636368890597,
     "user": {
      "displayName": "Aastha IIITD",
      "photoUrl": "https://lh3.googleusercontent.com/a-/AOh14GiLraMOSGhp36GfNRW9pA30-8inCgO3YzOMmuDksQ=s64",
      "userId": "17611466845080095343"
     },
     "user_tz": -330
    },
    "id": "pVdsjNL-qBvh"
   },
   "outputs": [],
   "source": [
    "standard_scaler = StandardScaler()\n",
    "\n",
    "X_train_standardized =standard_scaler.fit_transform(X_train)\n",
    "X_test_standardized =standard_scaler.fit_transform(X_test)\n",
    "X_standardized =standard_scaler.fit_transform(X)"
   ]
  },
  {
   "cell_type": "markdown",
   "metadata": {
    "id": "VJPzHFrwuQy4"
   },
   "source": [
    "Normalization"
   ]
  },
  {
   "cell_type": "code",
   "execution_count": 83,
   "metadata": {
    "executionInfo": {
     "elapsed": 6,
     "status": "ok",
     "timestamp": 1636368890597,
     "user": {
      "displayName": "Aastha IIITD",
      "photoUrl": "https://lh3.googleusercontent.com/a-/AOh14GiLraMOSGhp36GfNRW9pA30-8inCgO3YzOMmuDksQ=s64",
      "userId": "17611466845080095343"
     },
     "user_tz": -330
    },
    "id": "fcUK03PluSFH"
   },
   "outputs": [],
   "source": [
    "min_max_scaler = MinMaxScaler()\n",
    "\n",
    "X_train_normalized = min_max_scaler.fit_transform(X_train)\n",
    "X_test_normalized = min_max_scaler.fit_transform(X_test)\n",
    "X_normalized = min_max_scaler.fit_transform(X)"
   ]
  },
  {
   "cell_type": "markdown",
   "metadata": {
    "id": "G8qjaGHCgQmc"
   },
   "source": [
    "# Hyper-parameter Tuning Using Grid Search CV"
   ]
  },
  {
   "cell_type": "code",
   "execution_count": 55,
   "metadata": {
    "executionInfo": {
     "elapsed": 5,
     "status": "ok",
     "timestamp": 1636368890597,
     "user": {
      "displayName": "Aastha IIITD",
      "photoUrl": "https://lh3.googleusercontent.com/a-/AOh14GiLraMOSGhp36GfNRW9pA30-8inCgO3YzOMmuDksQ=s64",
      "userId": "17611466845080095343"
     },
     "user_tz": -330
    },
    "id": "6TZ1adKJhafY"
   },
   "outputs": [],
   "source": [
    "def tune_hyperparameters(model , X , y ):\n",
    "    param_grid = { \"C\": np.logspace(-3 , 3 , 7 ) , \n",
    "                  \"penalty\": [\"l1\" , \"l2\" ],\n",
    "                  \"solver\" : ['newton-cg', 'lbfgs', 'liblinear', 'sag', 'saga']\n",
    "                 }\n",
    "    grid_search = GridSearchCV(model , param_grid = param_grid )\n",
    "    grid_search.fit(X , y )\n",
    "    print(\"Best Params : \" , grid_search.best_params_ ) \n",
    "    "
   ]
  },
  {
   "cell_type": "markdown",
   "metadata": {
    "id": "iLsZ5i3wwk5j"
   },
   "source": [
    "### With Standardization"
   ]
  },
  {
   "cell_type": "code",
   "execution_count": 59,
   "metadata": {
    "colab": {
     "base_uri": "https://localhost:8080/"
    },
    "executionInfo": {
     "elapsed": 3654,
     "status": "ok",
     "timestamp": 1636368894246,
     "user": {
      "displayName": "Aastha IIITD",
      "photoUrl": "https://lh3.googleusercontent.com/a-/AOh14GiLraMOSGhp36GfNRW9pA30-8inCgO3YzOMmuDksQ=s64",
      "userId": "17611466845080095343"
     },
     "user_tz": -330
    },
    "id": "6J2IrNyegjVV",
    "outputId": "77918684-56c0-4c98-b94f-c941ab872c71"
   },
   "outputs": [
    {
     "name": "stdout",
     "output_type": "stream",
     "text": [
      "Best Params :  {'C': 0.001, 'penalty': 'l2', 'solver': 'liblinear'}\n"
     ]
    },
    {
     "name": "stderr",
     "output_type": "stream",
     "text": [
      "C:\\Users\\harsh\\anaconda3\\Lib\\site-packages\\sklearn\\model_selection\\_search.py:952: UserWarning: One or more of the test scores are non-finite: [       nan        nan 0.84450864        nan 0.84450864 0.84450864\n",
      " 0.84450864 0.8726924  0.84450864 0.84450864        nan        nan\n",
      " 0.84450864        nan 0.84450864 0.85131423 0.85131423 0.86686242\n",
      " 0.85131423 0.85131423        nan        nan 0.8649112         nan\n",
      " 0.8649112  0.86685295 0.86685295 0.86394033 0.86685295 0.86685295\n",
      "        nan        nan 0.86394033        nan 0.86394033 0.86685768\n",
      " 0.86685768 0.86685768 0.86685768 0.86685768        nan        nan\n",
      " 0.86686242        nan 0.86686242 0.86686242 0.86686242 0.86686242\n",
      " 0.86686242 0.86686242        nan        nan 0.86686242        nan\n",
      " 0.86686242 0.86686242 0.86686242 0.86686242 0.86686242 0.86686242\n",
      "        nan        nan 0.86686242        nan 0.86686242 0.86686242\n",
      " 0.86686242 0.86686242 0.86686242 0.86686242]\n",
      "  warnings.warn(\n"
     ]
    }
   ],
   "source": [
    "tune_hyperparameters(LogisticRegression(max_iter = 100000) , X_train_standardized , y_train )"
   ]
  },
  {
   "cell_type": "markdown",
   "metadata": {
    "id": "HrUOOnx-wrCG"
   },
   "source": [
    "### With Normalization"
   ]
  },
  {
   "cell_type": "code",
   "execution_count": 60,
   "metadata": {
    "colab": {
     "base_uri": "https://localhost:8080/"
    },
    "executionInfo": {
     "elapsed": 5741,
     "status": "ok",
     "timestamp": 1636368899984,
     "user": {
      "displayName": "Aastha IIITD",
      "photoUrl": "https://lh3.googleusercontent.com/a-/AOh14GiLraMOSGhp36GfNRW9pA30-8inCgO3YzOMmuDksQ=s64",
      "userId": "17611466845080095343"
     },
     "user_tz": -330
    },
    "id": "sdAd9qX4g9lc",
    "outputId": "eadac03e-3a53-4485-84a7-cf590cf8ad3c"
   },
   "outputs": [
    {
     "name": "stdout",
     "output_type": "stream",
     "text": [
      "Best Params :  {'C': 100.0, 'penalty': 'l1', 'solver': 'liblinear'}\n"
     ]
    },
    {
     "name": "stderr",
     "output_type": "stream",
     "text": [
      "C:\\Users\\harsh\\anaconda3\\Lib\\site-packages\\sklearn\\model_selection\\_search.py:952: UserWarning: One or more of the test scores are non-finite: [       nan        nan 0.84450864        nan 0.84450864 0.84450864\n",
      " 0.84450864 0.84450864 0.84450864 0.84450864        nan        nan\n",
      " 0.84450864        nan 0.84450864 0.84450864 0.84450864 0.84450864\n",
      " 0.84450864 0.84450864        nan        nan 0.84450864        nan\n",
      " 0.84450864 0.85228984 0.85228984 0.85228984 0.85228984 0.85228984\n",
      "        nan        nan 0.86199384        nan 0.86296472 0.86588207\n",
      " 0.86588207 0.86685295 0.86588207 0.86588207        nan        nan\n",
      " 0.86588207        nan 0.86685768 0.86491594 0.86491594 0.86491594\n",
      " 0.86491594 0.86491594        nan        nan 0.86686242        nan\n",
      " 0.86686242 0.86686242 0.86686242 0.86686242 0.86686242 0.86686242\n",
      "        nan        nan 0.86686242        nan 0.86686242 0.86686242\n",
      " 0.86686242 0.86686242 0.86686242 0.86686242]\n",
      "  warnings.warn(\n"
     ]
    }
   ],
   "source": [
    "tune_hyperparameters(LogisticRegression(max_iter=100000),X_train_normalized,y_train)"
   ]
  },
  {
   "cell_type": "markdown",
   "metadata": {
    "id": "8a7yUPquwZX3"
   },
   "source": [
    "# Performing Logistic Regression"
   ]
  },
  {
   "cell_type": "code",
   "execution_count": 66,
   "metadata": {
    "executionInfo": {
     "elapsed": 3,
     "status": "ok",
     "timestamp": 1636368899985,
     "user": {
      "displayName": "Aastha IIITD",
      "photoUrl": "https://lh3.googleusercontent.com/a-/AOh14GiLraMOSGhp36GfNRW9pA30-8inCgO3YzOMmuDksQ=s64",
      "userId": "17611466845080095343"
     },
     "user_tz": -330
    },
    "id": "EVidCMSamgKp"
   },
   "outputs": [],
   "source": [
    "def train_predict_evaluate(model , X_train , y_train , X_test ):\n",
    "    model.fit(X_train , y_train)\n",
    "    y_pred = model.predict( X_test )\n",
    "    \n",
    "    print(\"Accuracy: \",accuracy_score(y_test,y_pred))\n",
    "    print(\"Precision: \",precision_score(y_test,y_pred))\n",
    "    print(\"Recall: \",recall_score(y_test,y_pred))\n",
    "    print(\"F1 Score: \",f1_score(y_test,y_pred))\n",
    "    print(\"Confusion Matrix:\\n\",confusion_matrix(y_test,y_pred))\n",
    "    \n",
    "    fpr, tpr , thresholds = roc_curve(y_test , y_pred )\n",
    "    \n",
    "    plt.plot(fpr , tpr , color = 'green' , label='ROC curve (area = %0.2f)' % auc(fpr,tpr))\n",
    "    plt.plot([0,1] , [0 , 1 ] , color = 'orange' , linestyle = '--' )\n",
    "    plt.xlabel(\"False Positive Rate\")\n",
    "    plt.ylabel(\"True Positive Rate\")\n",
    "    plt.title(\"ROC Curve\")\n",
    "    plt.legend(loc=\"lower right\")\n",
    "    plt.show()"
   ]
  },
  {
   "cell_type": "markdown",
   "metadata": {
    "id": "p7AKFIHLtpo0"
   },
   "source": [
    "### Without scaling"
   ]
  },
  {
   "cell_type": "code",
   "execution_count": 67,
   "metadata": {
    "colab": {
     "base_uri": "https://localhost:8080/",
     "height": 414
    },
    "executionInfo": {
     "elapsed": 3161,
     "status": "ok",
     "timestamp": 1636368903143,
     "user": {
      "displayName": "Aastha IIITD",
      "photoUrl": "https://lh3.googleusercontent.com/a-/AOh14GiLraMOSGhp36GfNRW9pA30-8inCgO3YzOMmuDksQ=s64",
      "userId": "17611466845080095343"
     },
     "user_tz": -330
    },
    "id": "pwX8hGuuqKew",
    "outputId": "f231a893-eacb-4623-8ffc-cb4e39d4f92e"
   },
   "outputs": [
    {
     "name": "stdout",
     "output_type": "stream",
     "text": [
      "Accuracy:  0.8526077097505669\n",
      "Precision:  0.7\n",
      "Recall:  0.2727272727272727\n",
      "F1 Score:  0.3925233644859813\n",
      "Confusion Matrix:\n",
      " [[355   9]\n",
      " [ 56  21]]\n"
     ]
    },
    {
     "data": {
      "image/png": "[encoded data removed]",
      "text/plain": [
       "<Figure size 640x480 with 1 Axes>"
      ]
     },
     "metadata": {},
     "output_type": "display_data"
    }
   ],
   "source": [
    "train_predict_evaluate(LogisticRegression(max_iter=100000),X_train,y_train,X_test)"
   ]
  },
  {
   "cell_type": "markdown",
   "metadata": {
    "id": "MRkxJoeltu0M"
   },
   "source": [
    "### With Standardization"
   ]
  },
  {
   "cell_type": "code",
   "execution_count": 68,
   "metadata": {
    "colab": {
     "base_uri": "https://localhost:8080/",
     "height": 414
    },
    "executionInfo": {
     "elapsed": 19,
     "status": "ok",
     "timestamp": 1636368903143,
     "user": {
      "displayName": "Aastha IIITD",
      "photoUrl": "https://lh3.googleusercontent.com/a-/AOh14GiLraMOSGhp36GfNRW9pA30-8inCgO3YzOMmuDksQ=s64",
      "userId": "17611466845080095343"
     },
     "user_tz": -330
    },
    "id": "1ghT7uxxqUHV",
    "outputId": "abdb973c-e0f5-4949-8a66-9035e52e6c13"
   },
   "outputs": [
    {
     "name": "stdout",
     "output_type": "stream",
     "text": [
      "Accuracy:  0.8639455782312925\n",
      "Precision:  0.84\n",
      "Recall:  0.2727272727272727\n",
      "F1 Score:  0.41176470588235287\n",
      "Confusion Matrix:\n",
      " [[360   4]\n",
      " [ 56  21]]\n"
     ]
    },
    {
     "data": {
      "image/png": "[encoded data removed]",
      "text/plain": [
       "<Figure size 640x480 with 1 Axes>"
      ]
     },
     "metadata": {},
     "output_type": "display_data"
    }
   ],
   "source": [
    "train_predict_evaluate(LogisticRegression(max_iter=100000,C=0.001,penalty='l2',solver='liblinear'),X_train_standardized,y_train,X_test_standardized)"
   ]
  },
  {
   "cell_type": "markdown",
   "metadata": {
    "id": "36aiMs0iud2S"
   },
   "source": [
    "### With Normalization"
   ]
  },
  {
   "cell_type": "code",
   "execution_count": 69,
   "metadata": {
    "colab": {
     "base_uri": "https://localhost:8080/",
     "height": 414
    },
    "executionInfo": {
     "elapsed": 13,
     "status": "ok",
     "timestamp": 1636368903144,
     "user": {
      "displayName": "Aastha IIITD",
      "photoUrl": "https://lh3.googleusercontent.com/a-/AOh14GiLraMOSGhp36GfNRW9pA30-8inCgO3YzOMmuDksQ=s64",
      "userId": "17611466845080095343"
     },
     "user_tz": -330
    },
    "id": "sxzzMcZRqo1N",
    "outputId": "01578763-42c9-446b-c48c-407c05cddc0e"
   },
   "outputs": [
    {
     "name": "stdout",
     "output_type": "stream",
     "text": [
      "Accuracy:  0.8639455782312925\n",
      "Precision:  0.7741935483870968\n",
      "Recall:  0.3116883116883117\n",
      "F1 Score:  0.4444444444444445\n",
      "Confusion Matrix:\n",
      " [[357   7]\n",
      " [ 53  24]]\n"
     ]
    },
    {
     "data": {
      "image/png": "[encoded data removed]",
      "text/plain": [
       "<Figure size 640x480 with 1 Axes>"
      ]
     },
     "metadata": {},
     "output_type": "display_data"
    }
   ],
   "source": [
    "train_predict_evaluate(LogisticRegression(max_iter=100000,C=100,penalty='l1',solver='liblinear'),X_train_normalized,y_train,X_test_normalized)"
   ]
  },
  {
   "cell_type": "markdown",
   "metadata": {
    "id": "bYT34VkEzXhQ"
   },
   "source": [
    "# K-Fold Cross Validation"
   ]
  },
  {
   "cell_type": "code",
   "execution_count": 77,
   "metadata": {
    "executionInfo": {
     "elapsed": 11,
     "status": "ok",
     "timestamp": 1636368903144,
     "user": {
      "displayName": "Aastha IIITD",
      "photoUrl": "https://lh3.googleusercontent.com/a-/AOh14GiLraMOSGhp36GfNRW9pA30-8inCgO3YzOMmuDksQ=s64",
      "userId": "17611466845080095343"
     },
     "user_tz": -330
    },
    "id": "4NHTmFu6F5mt"
   },
   "outputs": [],
   "source": [
    "def cross_validation(model,X,y):\n",
    "  scores = cross_validate(model, X, y, cv=5,scoring=('accuracy','precision','recall','f1'))\n",
    "\n",
    "  metrics = []\n",
    "  metrics.append(np.mean(scores['test_accuracy']))\n",
    "  metrics.append(np.mean(scores['test_precision']))\n",
    "  metrics.append(np.mean(scores['test_recall']))\n",
    "  metrics.append(np.mean(scores['test_f1']))\n",
    "\n",
    "  print(\"Accuracy: \",metrics[0])\n",
    "  print(\"Precision: \",metrics[1])\n",
    "  print(\"Recall: \",metrics[2])\n",
    "  print(\"F1 Score: \",metrics[3])\n",
    "\n",
    "  return metrics"
   ]
  },
  {
   "cell_type": "code",
   "execution_count": 78,
   "metadata": {
    "executionInfo": {
     "elapsed": 10,
     "status": "ok",
     "timestamp": 1636368903144,
     "user": {
      "displayName": "Aastha IIITD",
      "photoUrl": "https://lh3.googleusercontent.com/a-/AOh14GiLraMOSGhp36GfNRW9pA30-8inCgO3YzOMmuDksQ=s64",
      "userId": "17611466845080095343"
     },
     "user_tz": -330
    },
    "id": "K9ZGmXzWHnsn"
   },
   "outputs": [],
   "source": [
    "metrics = []"
   ]
  },
  {
   "cell_type": "markdown",
   "metadata": {
    "id": "rsTPmPJBDYFr"
   },
   "source": [
    "### Without Scaling"
   ]
  },
  {
   "cell_type": "code",
   "execution_count": 79,
   "metadata": {
    "colab": {
     "base_uri": "https://localhost:8080/"
    },
    "executionInfo": {
     "elapsed": 11065,
     "status": "ok",
     "timestamp": 1636368914199,
     "user": {
      "displayName": "Aastha IIITD",
      "photoUrl": "https://lh3.googleusercontent.com/a-/AOh14GiLraMOSGhp36GfNRW9pA30-8inCgO3YzOMmuDksQ=s64",
      "userId": "17611466845080095343"
     },
     "user_tz": -330
    },
    "id": "6l4bsmaB0igR",
    "outputId": "c3a73765-0145-4c7b-ce4a-aad9812497b5"
   },
   "outputs": [
    {
     "name": "stdout",
     "output_type": "stream",
     "text": [
      "Accuracy:  0.8653061224489795\n",
      "Precision:  0.6831406066700184\n",
      "Recall:  0.3120567375886525\n",
      "F1 Score:  0.42518866139232775\n"
     ]
    }
   ],
   "source": [
    "metrics.append(cross_validation(LogisticRegression(max_iter=100000),X,y))"
   ]
  },
  {
   "cell_type": "markdown",
   "metadata": {
    "id": "iVkk_V7tDbfC"
   },
   "source": [
    "### With Standardization"
   ]
  },
  {
   "cell_type": "code",
   "execution_count": 80,
   "metadata": {
    "colab": {
     "base_uri": "https://localhost:8080/"
    },
    "executionInfo": {
     "elapsed": 12,
     "status": "ok",
     "timestamp": 1636368914200,
     "user": {
      "displayName": "Aastha IIITD",
      "photoUrl": "https://lh3.googleusercontent.com/a-/AOh14GiLraMOSGhp36GfNRW9pA30-8inCgO3YzOMmuDksQ=s64",
      "userId": "17611466845080095343"
     },
     "user_tz": -330
    },
    "id": "hOjeaHu83Wqy",
    "outputId": "8be083ba-d402-4b84-9354-57079bd5c787"
   },
   "outputs": [
    {
     "name": "stdout",
     "output_type": "stream",
     "text": [
      "Accuracy:  0.8748299319727891\n",
      "Precision:  0.7529716139879479\n",
      "Recall:  0.3459219858156028\n",
      "F1 Score:  0.4717723744376053\n"
     ]
    }
   ],
   "source": [
    "metrics.append(cross_validation(LogisticRegression(max_iter=100000,C=0.001,penalty='l2',solver='liblinear'),X_standardized,y))"
   ]
  },
  {
   "cell_type": "markdown",
   "metadata": {
    "id": "NGQAVDx6DfXK"
   },
   "source": [
    "### With Normalization"
   ]
  },
  {
   "cell_type": "code",
   "execution_count": 84,
   "metadata": {
    "colab": {
     "base_uri": "https://localhost:8080/"
    },
    "executionInfo": {
     "elapsed": 8,
     "status": "ok",
     "timestamp": 1636368914200,
     "user": {
      "displayName": "Aastha IIITD",
      "photoUrl": "https://lh3.googleusercontent.com/a-/AOh14GiLraMOSGhp36GfNRW9pA30-8inCgO3YzOMmuDksQ=s64",
      "userId": "17611466845080095343"
     },
     "user_tz": -330
    },
    "id": "G16F89KqDM3i",
    "outputId": "7b34073b-d899-4f2d-c61e-6fd7d5cd0235"
   },
   "outputs": [
    {
     "name": "stdout",
     "output_type": "stream",
     "text": [
      "Accuracy:  0.8653061224489796\n",
      "Precision:  0.668111111111111\n",
      "Recall:  0.3375886524822695\n",
      "F1 Score:  0.4458570434646066\n"
     ]
    }
   ],
   "source": [
    "metrics.append(cross_validation(LogisticRegression(max_iter=100000,C=100,penalty='l1',solver='liblinear'),X_normalized,y))"
   ]
  },
  {
   "cell_type": "markdown",
   "metadata": {
    "id": "etAeXaJeNLWA"
   },
   "source": [
    "# Performance and Comparison Plots"
   ]
  },
  {
   "cell_type": "code",
   "execution_count": 85,
   "metadata": {
    "colab": {
     "base_uri": "https://localhost:8080/",
     "height": 142
    },
    "executionInfo": {
     "elapsed": 6,
     "status": "ok",
     "timestamp": 1636368914200,
     "user": {
      "displayName": "Aastha IIITD",
      "photoUrl": "https://lh3.googleusercontent.com/a-/AOh14GiLraMOSGhp36GfNRW9pA30-8inCgO3YzOMmuDksQ=s64",
      "userId": "17611466845080095343"
     },
     "user_tz": -330
    },
    "id": "ZL6Rs_eQIRrp",
    "outputId": "7eb1c622-3df9-4207-fe39-d3423f96f553"
   },
   "outputs": [
    {
     "data": {
      "text/html": [
       "<div>\n",
       "<style scoped>\n",
       "    .dataframe tbody tr th:only-of-type {\n",
       "        vertical-align: middle;\n",
       "    }\n",
       "\n",
       "    .dataframe tbody tr th {\n",
       "        vertical-align: top;\n",
       "    }\n",
       "\n",
       "    .dataframe thead th {\n",
       "        text-align: right;\n",
       "    }\n",
       "</style>\n",
       "<table border=\"1\" class=\"dataframe\">\n",
       "  <thead>\n",
       "    <tr style=\"text-align: right;\">\n",
       "      <th></th>\n",
       "      <th>Accuracy</th>\n",
       "      <th>Precision</th>\n",
       "      <th>Recall</th>\n",
       "      <th>F1 Score</th>\n",
       "    </tr>\n",
       "  </thead>\n",
       "  <tbody>\n",
       "    <tr>\n",
       "      <th>Without Scaling</th>\n",
       "      <td>0.865306</td>\n",
       "      <td>0.683141</td>\n",
       "      <td>0.312057</td>\n",
       "      <td>0.425189</td>\n",
       "    </tr>\n",
       "    <tr>\n",
       "      <th>With Standardization</th>\n",
       "      <td>0.874830</td>\n",
       "      <td>0.752972</td>\n",
       "      <td>0.345922</td>\n",
       "      <td>0.471772</td>\n",
       "    </tr>\n",
       "    <tr>\n",
       "      <th>With Normalization</th>\n",
       "      <td>0.865306</td>\n",
       "      <td>0.668111</td>\n",
       "      <td>0.337589</td>\n",
       "      <td>0.445857</td>\n",
       "    </tr>\n",
       "  </tbody>\n",
       "</table>\n",
       "</div>"
      ],
      "text/plain": [
       "                      Accuracy  Precision    Recall  F1 Score\n",
       "Without Scaling       0.865306   0.683141  0.312057  0.425189\n",
       "With Standardization  0.874830   0.752972  0.345922  0.471772\n",
       "With Normalization    0.865306   0.668111  0.337589  0.445857"
      ]
     },
     "execution_count": 85,
     "metadata": {},
     "output_type": "execute_result"
    }
   ],
   "source": [
    "mdf = pd.DataFrame(metrics,columns=[\"Accuracy\",\"Precision\",\"Recall\",\"F1 Score\"],index=[\"Without Scaling\",\"With Standardization\",\"With Normalization\"])\n",
    "mdf.head()"
   ]
  },
  {
   "cell_type": "code",
   "execution_count": 86,
   "metadata": {
    "colab": {
     "base_uri": "https://localhost:8080/",
     "height": 265
    },
    "executionInfo": {
     "elapsed": 1130,
     "status": "ok",
     "timestamp": 1636368915324,
     "user": {
      "displayName": "Aastha IIITD",
      "photoUrl": "https://lh3.googleusercontent.com/a-/AOh14GiLraMOSGhp36GfNRW9pA30-8inCgO3YzOMmuDksQ=s64",
      "userId": "17611466845080095343"
     },
     "user_tz": -330
    },
    "id": "Eu3JAXUnJ-x2",
    "outputId": "e105708b-431d-4a0a-8a5a-ca7b0bb72063"
   },
   "outputs": [
    {
     "data": {
      "image/png": "[encoded data removed]",
      "text/plain": [
       "<Figure size 640x480 with 1 Axes>"
      ]
     },
     "metadata": {},
     "output_type": "display_data"
    }
   ],
   "source": [
    "mdf['Accuracy'].plot()\n",
    "plt.ylabel(\"Accuracy\")\n",
    "plt.show()"
   ]
  },
  {
   "cell_type": "code",
   "execution_count": 87,
   "metadata": {
    "colab": {
     "base_uri": "https://localhost:8080/",
     "height": 265
    },
    "executionInfo": {
     "elapsed": 15,
     "status": "ok",
     "timestamp": 1636368915324,
     "user": {
      "displayName": "Aastha IIITD",
      "photoUrl": "https://lh3.googleusercontent.com/a-/AOh14GiLraMOSGhp36GfNRW9pA30-8inCgO3YzOMmuDksQ=s64",
      "userId": "17611466845080095343"
     },
     "user_tz": -330
    },
    "id": "Yoh-sO_JLtm0",
    "outputId": "4cd5f190-9d54-4706-c444-f6296e867ae8"
   },
   "outputs": [
    {
     "data": {
      "image/png": "[encoded data removed]",
      "text/plain": [
       "<Figure size 640x480 with 1 Axes>"
      ]
     },
     "metadata": {},
     "output_type": "display_data"
    }
   ],
   "source": [
    "mdf['Precision'].plot()\n",
    "plt.ylabel(\"Precision\")\n",
    "plt.show()"
   ]
  },
  {
   "cell_type": "code",
   "execution_count": 88,
   "metadata": {
    "colab": {
     "base_uri": "https://localhost:8080/",
     "height": 265
    },
    "executionInfo": {
     "elapsed": 17,
     "status": "ok",
     "timestamp": 1636368915327,
     "user": {
      "displayName": "Aastha IIITD",
      "photoUrl": "https://lh3.googleusercontent.com/a-/AOh14GiLraMOSGhp36GfNRW9pA30-8inCgO3YzOMmuDksQ=s64",
      "userId": "17611466845080095343"
     },
     "user_tz": -330
    },
    "id": "mOcyFNGbLwyn",
    "outputId": "c78d3ba2-b443-4966-a5d0-1c4689f41a64"
   },
   "outputs": [
    {
     "data": {
      "image/png": "[encoded data removed]",
      "text/plain": [
       "<Figure size 640x480 with 1 Axes>"
      ]
     },
     "metadata": {},
     "output_type": "display_data"
    }
   ],
   "source": [
    "mdf['Recall'].plot()\n",
    "plt.ylabel(\"Recall\")\n",
    "plt.show()"
   ]
  },
  {
   "cell_type": "code",
   "execution_count": 90,
   "metadata": {
    "colab": {
     "base_uri": "https://localhost:8080/",
     "height": 265
    },
    "executionInfo": {
     "elapsed": 16,
     "status": "ok",
     "timestamp": 1636368915328,
     "user": {
      "displayName": "Aastha IIITD",
      "photoUrl": "https://lh3.googleusercontent.com/a-/AOh14GiLraMOSGhp36GfNRW9pA30-8inCgO3YzOMmuDksQ=s64",
      "userId": "17611466845080095343"
     },
     "user_tz": -330
    },
    "id": "8pVMkoSvEEvT",
    "outputId": "d53bcf2b-dbca-4f77-990b-c36892187dc8"
   },
   "outputs": [
    {
     "data": {
      "image/png": "[encoded data removed]",
      "text/plain": [
       "<Figure size 640x480 with 1 Axes>"
      ]
     },
     "metadata": {},
     "output_type": "display_data"
    }
   ],
   "source": [
    "mdf['F1 Score'].plot()\n",
    "plt.ylabel(\"F1 Score\")\n",
    "plt.show()"
   ]
  }
 ],
 "metadata": {
  "colab": {
   "authorship_tag": "ABX9TyPi0RKPVUSIMm5nGDQdPzAv",
   "name": "LogisticRegression.ipynb",
   "provenance": []
  },
  "kernelspec": {
   "display_name": "Python 3 (ipykernel)",
   "language": "python",
   "name": "python3"
  },
  "language_info": {
   "codemirror_mode": {
    "name": "ipython",
    "version": 3
   },
   "file_extension": ".py",
   "mimetype": "text/x-python",
   "name": "python",
   "nbconvert_exporter": "python",
   "pygments_lexer": "ipython3",
   "version": "3.11.3"
  }
 },
 "nbformat": 4,
 "nbformat_minor": 1
}
