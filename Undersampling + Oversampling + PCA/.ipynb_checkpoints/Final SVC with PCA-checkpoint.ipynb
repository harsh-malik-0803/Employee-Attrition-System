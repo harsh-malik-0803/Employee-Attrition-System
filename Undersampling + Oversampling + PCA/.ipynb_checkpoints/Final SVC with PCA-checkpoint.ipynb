{
 "cells": [
  {
   "cell_type": "markdown",
   "metadata": {
    "id": "2zhP8OFb46zk"
   },
   "source": [
    "# Importing Modules"
   ]
  },
  {
   "cell_type": "code",
   "execution_count": 1,
   "metadata": {
    "executionInfo": {
     "elapsed": 421,
     "status": "ok",
     "timestamp": 1636894673888,
     "user": {
      "displayName": "Vaibhav Soni",
      "photoUrl": "https://lh3.googleusercontent.com/a/default-user=s64",
      "userId": "13566874675602736975"
     },
     "user_tz": -330
    },
    "id": "zBmzE-aC4ooV"
   },
   "outputs": [],
   "source": [
    "import pandas as pd\n",
    "import numpy as np\n",
    "import matplotlib.pyplot as plt\n",
    "from sklearn.model_selection import train_test_split, GridSearchCV, cross_validate\n",
    "from sklearn.preprocessing import StandardScaler, OneHotEncoder, LabelEncoder, MinMaxScaler\n",
    "from sklearn.svm import SVC\n",
    "from sklearn.metrics import accuracy_score,precision_score, recall_score, confusion_matrix, f1_score, roc_curve,auc\n",
    "from sklearn.decomposition import PCA"
   ]
  },
  {
   "cell_type": "markdown",
   "metadata": {
    "id": "ROGbJmXN4-c9"
   },
   "source": [
    "# Importing Dataset"
   ]
  },
  {
   "cell_type": "code",
   "execution_count": 2,
   "metadata": {
    "executionInfo": {
     "elapsed": 1152,
     "status": "ok",
     "timestamp": 1636894675632,
     "user": {
      "displayName": "Vaibhav Soni",
      "photoUrl": "https://lh3.googleusercontent.com/a/default-user=s64",
      "userId": "13566874675602736975"
     },
     "user_tz": -330
    },
    "id": "ibS1kibB46QC"
   },
   "outputs": [],
   "source": [
    "df = pd.read_csv('WA_Fn-UseC_-HR-Employee-Attrition.csv')"
   ]
  },
  {
   "cell_type": "code",
   "execution_count": 3,
   "metadata": {
    "colab": {
     "base_uri": "https://localhost:8080/",
     "height": 307
    },
    "executionInfo": {
     "elapsed": 32,
     "status": "ok",
     "timestamp": 1636894675633,
     "user": {
      "displayName": "Vaibhav Soni",
      "photoUrl": "https://lh3.googleusercontent.com/a/default-user=s64",
      "userId": "13566874675602736975"
     },
     "user_tz": -330
    },
    "id": "vniC_UNb5CHJ",
    "outputId": "a5bd9d8f-c825-42bc-e293-bf723a3c3041"
   },
   "outputs": [
    {
     "data": {
      "text/html": [
       "<div>\n",
       "<style scoped>\n",
       "    .dataframe tbody tr th:only-of-type {\n",
       "        vertical-align: middle;\n",
       "    }\n",
       "\n",
       "    .dataframe tbody tr th {\n",
       "        vertical-align: top;\n",
       "    }\n",
       "\n",
       "    .dataframe thead th {\n",
       "        text-align: right;\n",
       "    }\n",
       "</style>\n",
       "<table border=\"1\" class=\"dataframe\">\n",
       "  <thead>\n",
       "    <tr style=\"text-align: right;\">\n",
       "      <th></th>\n",
       "      <th>Age</th>\n",
       "      <th>Attrition</th>\n",
       "      <th>BusinessTravel</th>\n",
       "      <th>DailyRate</th>\n",
       "      <th>Department</th>\n",
       "      <th>DistanceFromHome</th>\n",
       "      <th>Education</th>\n",
       "      <th>EducationField</th>\n",
       "      <th>EmployeeCount</th>\n",
       "      <th>EmployeeNumber</th>\n",
       "      <th>...</th>\n",
       "      <th>RelationshipSatisfaction</th>\n",
       "      <th>StandardHours</th>\n",
       "      <th>StockOptionLevel</th>\n",
       "      <th>TotalWorkingYears</th>\n",
       "      <th>TrainingTimesLastYear</th>\n",
       "      <th>WorkLifeBalance</th>\n",
       "      <th>YearsAtCompany</th>\n",
       "      <th>YearsInCurrentRole</th>\n",
       "      <th>YearsSinceLastPromotion</th>\n",
       "      <th>YearsWithCurrManager</th>\n",
       "    </tr>\n",
       "  </thead>\n",
       "  <tbody>\n",
       "    <tr>\n",
       "      <th>0</th>\n",
       "      <td>41</td>\n",
       "      <td>Yes</td>\n",
       "      <td>Travel_Rarely</td>\n",
       "      <td>1102</td>\n",
       "      <td>Sales</td>\n",
       "      <td>1</td>\n",
       "      <td>2</td>\n",
       "      <td>Life Sciences</td>\n",
       "      <td>1</td>\n",
       "      <td>1</td>\n",
       "      <td>...</td>\n",
       "      <td>1</td>\n",
       "      <td>80</td>\n",
       "      <td>0</td>\n",
       "      <td>8</td>\n",
       "      <td>0</td>\n",
       "      <td>1</td>\n",
       "      <td>6</td>\n",
       "      <td>4</td>\n",
       "      <td>0</td>\n",
       "      <td>5</td>\n",
       "    </tr>\n",
       "    <tr>\n",
       "      <th>1</th>\n",
       "      <td>49</td>\n",
       "      <td>No</td>\n",
       "      <td>Travel_Frequently</td>\n",
       "      <td>279</td>\n",
       "      <td>Research &amp; Development</td>\n",
       "      <td>8</td>\n",
       "      <td>1</td>\n",
       "      <td>Life Sciences</td>\n",
       "      <td>1</td>\n",
       "      <td>2</td>\n",
       "      <td>...</td>\n",
       "      <td>4</td>\n",
       "      <td>80</td>\n",
       "      <td>1</td>\n",
       "      <td>10</td>\n",
       "      <td>3</td>\n",
       "      <td>3</td>\n",
       "      <td>10</td>\n",
       "      <td>7</td>\n",
       "      <td>1</td>\n",
       "      <td>7</td>\n",
       "    </tr>\n",
       "    <tr>\n",
       "      <th>2</th>\n",
       "      <td>37</td>\n",
       "      <td>Yes</td>\n",
       "      <td>Travel_Rarely</td>\n",
       "      <td>1373</td>\n",
       "      <td>Research &amp; Development</td>\n",
       "      <td>2</td>\n",
       "      <td>2</td>\n",
       "      <td>Other</td>\n",
       "      <td>1</td>\n",
       "      <td>4</td>\n",
       "      <td>...</td>\n",
       "      <td>2</td>\n",
       "      <td>80</td>\n",
       "      <td>0</td>\n",
       "      <td>7</td>\n",
       "      <td>3</td>\n",
       "      <td>3</td>\n",
       "      <td>0</td>\n",
       "      <td>0</td>\n",
       "      <td>0</td>\n",
       "      <td>0</td>\n",
       "    </tr>\n",
       "    <tr>\n",
       "      <th>3</th>\n",
       "      <td>33</td>\n",
       "      <td>No</td>\n",
       "      <td>Travel_Frequently</td>\n",
       "      <td>1392</td>\n",
       "      <td>Research &amp; Development</td>\n",
       "      <td>3</td>\n",
       "      <td>4</td>\n",
       "      <td>Life Sciences</td>\n",
       "      <td>1</td>\n",
       "      <td>5</td>\n",
       "      <td>...</td>\n",
       "      <td>3</td>\n",
       "      <td>80</td>\n",
       "      <td>0</td>\n",
       "      <td>8</td>\n",
       "      <td>3</td>\n",
       "      <td>3</td>\n",
       "      <td>8</td>\n",
       "      <td>7</td>\n",
       "      <td>3</td>\n",
       "      <td>0</td>\n",
       "    </tr>\n",
       "    <tr>\n",
       "      <th>4</th>\n",
       "      <td>27</td>\n",
       "      <td>No</td>\n",
       "      <td>Travel_Rarely</td>\n",
       "      <td>591</td>\n",
       "      <td>Research &amp; Development</td>\n",
       "      <td>2</td>\n",
       "      <td>1</td>\n",
       "      <td>Medical</td>\n",
       "      <td>1</td>\n",
       "      <td>7</td>\n",
       "      <td>...</td>\n",
       "      <td>4</td>\n",
       "      <td>80</td>\n",
       "      <td>1</td>\n",
       "      <td>6</td>\n",
       "      <td>3</td>\n",
       "      <td>3</td>\n",
       "      <td>2</td>\n",
       "      <td>2</td>\n",
       "      <td>2</td>\n",
       "      <td>2</td>\n",
       "    </tr>\n",
       "  </tbody>\n",
       "</table>\n",
       "<p>5 rows × 35 columns</p>\n",
       "</div>"
      ],
      "text/plain": [
       "   Age Attrition     BusinessTravel  DailyRate              Department  \\\n",
       "0   41       Yes      Travel_Rarely       1102                   Sales   \n",
       "1   49        No  Travel_Frequently        279  Research & Development   \n",
       "2   37       Yes      Travel_Rarely       1373  Research & Development   \n",
       "3   33        No  Travel_Frequently       1392  Research & Development   \n",
       "4   27        No      Travel_Rarely        591  Research & Development   \n",
       "\n",
       "   DistanceFromHome  Education EducationField  EmployeeCount  EmployeeNumber  \\\n",
       "0                 1          2  Life Sciences              1               1   \n",
       "1                 8          1  Life Sciences              1               2   \n",
       "2                 2          2          Other              1               4   \n",
       "3                 3          4  Life Sciences              1               5   \n",
       "4                 2          1        Medical              1               7   \n",
       "\n",
       "   ...  RelationshipSatisfaction StandardHours  StockOptionLevel  \\\n",
       "0  ...                         1            80                 0   \n",
       "1  ...                         4            80                 1   \n",
       "2  ...                         2            80                 0   \n",
       "3  ...                         3            80                 0   \n",
       "4  ...                         4            80                 1   \n",
       "\n",
       "   TotalWorkingYears  TrainingTimesLastYear WorkLifeBalance  YearsAtCompany  \\\n",
       "0                  8                      0               1               6   \n",
       "1                 10                      3               3              10   \n",
       "2                  7                      3               3               0   \n",
       "3                  8                      3               3               8   \n",
       "4                  6                      3               3               2   \n",
       "\n",
       "  YearsInCurrentRole  YearsSinceLastPromotion  YearsWithCurrManager  \n",
       "0                  4                        0                     5  \n",
       "1                  7                        1                     7  \n",
       "2                  0                        0                     0  \n",
       "3                  7                        3                     0  \n",
       "4                  2                        2                     2  \n",
       "\n",
       "[5 rows x 35 columns]"
      ]
     },
     "execution_count": 3,
     "metadata": {},
     "output_type": "execute_result"
    }
   ],
   "source": [
    "df.head()"
   ]
  },
  {
   "cell_type": "markdown",
   "metadata": {
    "id": "Nh1RNM3j5QSL"
   },
   "source": [
    "# Encoding Categorical Values"
   ]
  },
  {
   "cell_type": "code",
   "execution_count": 4,
   "metadata": {
    "executionInfo": {
     "elapsed": 31,
     "status": "ok",
     "timestamp": 1636894675635,
     "user": {
      "displayName": "Vaibhav Soni",
      "photoUrl": "https://lh3.googleusercontent.com/a/default-user=s64",
      "userId": "13566874675602736975"
     },
     "user_tz": -330
    },
    "id": "vzACHnQQ5DhE"
   },
   "outputs": [],
   "source": [
    "categorical_column = ['Attrition', 'BusinessTravel', 'Department','Gender', 'JobRole', 'MaritalStatus', 'OverTime','EducationField']\n",
    "encoder=LabelEncoder()\n",
    "df[categorical_column]=df[categorical_column].apply(encoder.fit_transform)"
   ]
  },
  {
   "cell_type": "markdown",
   "metadata": {
    "id": "pkyEISlS5T9C"
   },
   "source": [
    "# Seperating into X and y"
   ]
  },
  {
   "cell_type": "code",
   "execution_count": 5,
   "metadata": {
    "executionInfo": {
     "elapsed": 31,
     "status": "ok",
     "timestamp": 1636894675636,
     "user": {
      "displayName": "Vaibhav Soni",
      "photoUrl": "https://lh3.googleusercontent.com/a/default-user=s64",
      "userId": "13566874675602736975"
     },
     "user_tz": -330
    },
    "id": "A2hzRu2X5Pzg"
   },
   "outputs": [],
   "source": [
    "y=df['Attrition']\n",
    "X=df.drop(['EmployeeCount','Attrition','EmployeeNumber','Over18','StandardHours'],axis=1)"
   ]
  },
  {
   "cell_type": "code",
   "execution_count": 6,
   "metadata": {
    "colab": {
     "base_uri": "https://localhost:8080/"
    },
    "executionInfo": {
     "elapsed": 35,
     "status": "ok",
     "timestamp": 1636894675641,
     "user": {
      "displayName": "Vaibhav Soni",
      "photoUrl": "https://lh3.googleusercontent.com/a/default-user=s64",
      "userId": "13566874675602736975"
     },
     "user_tz": -330
    },
    "id": "cOJF4o6iegoK",
    "outputId": "ea86e515-7342-4467-abeb-baf8b3779ab4"
   },
   "outputs": [],
   "source": [
    "from imblearn.over_sampling import RandomOverSampler\n",
    "from imblearn.under_sampling import RandomUnderSampler\n",
    "\n",
    "rus = RandomUnderSampler(random_state=42,replacement=True)\n",
    "X_, Y1 = rus.fit_resample(X,y)\n",
    "X1 = pd.DataFrame(X_,columns=X.columns)\n",
    "\n",
    "ros = RandomOverSampler(random_state=42)\n",
    "X_, Y2 = ros.fit_resample(X,y)\n",
    "X2 = pd.DataFrame(X_,columns=X.columns)"
   ]
  },
  {
   "cell_type": "markdown",
   "metadata": {
    "id": "h91lKdjPfi4o"
   },
   "source": [
    "# UnderSampling"
   ]
  },
  {
   "cell_type": "code",
   "execution_count": 7,
   "metadata": {
    "executionInfo": {
     "elapsed": 30,
     "status": "ok",
     "timestamp": 1636894675642,
     "user": {
      "displayName": "Vaibhav Soni",
      "photoUrl": "https://lh3.googleusercontent.com/a/default-user=s64",
      "userId": "13566874675602736975"
     },
     "user_tz": -330
    },
    "id": "7OiFwmOOfnp9"
   },
   "outputs": [],
   "source": [
    "X=X1\n",
    "y=Y1"
   ]
  },
  {
   "cell_type": "markdown",
   "metadata": {
    "id": "DwGH4sf15ZtD"
   },
   "source": [
    "# Spliting into Train and Test Sets"
   ]
  },
  {
   "cell_type": "code",
   "execution_count": 8,
   "metadata": {
    "executionInfo": {
     "elapsed": 31,
     "status": "ok",
     "timestamp": 1636894675643,
     "user": {
      "displayName": "Vaibhav Soni",
      "photoUrl": "https://lh3.googleusercontent.com/a/default-user=s64",
      "userId": "13566874675602736975"
     },
     "user_tz": -330
    },
    "id": "LAxZ0v885YZE"
   },
   "outputs": [],
   "source": [
    "X_train, X_test, y_train, y_test = train_test_split(X,y,test_size=0.3,random_state=1)"
   ]
  },
  {
   "cell_type": "markdown",
   "metadata": {
    "id": "G9tNkgRm6MpO"
   },
   "source": [
    "# Feature Scaling"
   ]
  },
  {
   "cell_type": "markdown",
   "metadata": {
    "id": "rp_uBJPhB4pj"
   },
   "source": [
    "####PCA"
   ]
  },
  {
   "cell_type": "code",
   "execution_count": 9,
   "metadata": {
    "colab": {
     "base_uri": "https://localhost:8080/",
     "height": 312
    },
    "executionInfo": {
     "elapsed": 30,
     "status": "ok",
     "timestamp": 1636894675643,
     "user": {
      "displayName": "Vaibhav Soni",
      "photoUrl": "https://lh3.googleusercontent.com/a/default-user=s64",
      "userId": "13566874675602736975"
     },
     "user_tz": -330
    },
    "id": "NprDjbmgB6Q1",
    "outputId": "a6f6c666-10b1-4648-bc95-6aeff8d35556"
   },
   "outputs": [
    {
     "name": "stdout",
     "output_type": "stream",
     "text": [
      "20 PCs explain  [70.74068688 99.76281581] % of variance cumulatively\n"
     ]
    },
    {
     "data": {
      "image/png": "[encoded data removed]",
      "text/plain": [
       "<Figure size 640x480 with 1 Axes>"
      ]
     },
     "metadata": {},
     "output_type": "display_data"
    }
   ],
   "source": [
    "pca = PCA(n_components=2, random_state=0)\n",
    "X_train_pca = pca.fit_transform(X_train)\n",
    "print('20 PCs explain ', np.cumsum(pca.explained_variance_ratio_)*100, '% of variance cumulatively')\n",
    "# scree plot\n",
    "PC_values = np.arange(pca.n_components_) + 1\n",
    "plt.plot(PC_values, pca.explained_variance_ratio_, 'ro-', linewidth=2)\n",
    "plt.title('Scree Plot')\n",
    "plt.xlabel('Principal Component')\n",
    "plt.ylabel('Proportion of Variance Explained')\n",
    "plt.show()"
   ]
  },
  {
   "cell_type": "markdown",
   "metadata": {
    "id": "vzMRVWh06P2o"
   },
   "source": [
    "Standardization"
   ]
  },
  {
   "cell_type": "code",
   "execution_count": 10,
   "metadata": {
    "colab": {
     "base_uri": "https://localhost:8080/",
     "height": 362
    },
    "executionInfo": {
     "elapsed": 28,
     "status": "ok",
     "timestamp": 1636894675644,
     "user": {
      "displayName": "Vaibhav Soni",
      "photoUrl": "https://lh3.googleusercontent.com/a/default-user=s64",
      "userId": "13566874675602736975"
     },
     "user_tz": -330
    },
    "id": "NZ72U6ED5gB8",
    "outputId": "401c5927-f5e5-41b6-bfe5-f1e6eaaa8b87"
   },
   "outputs": [
    {
     "name": "stdout",
     "output_type": "stream",
     "text": [
      "20 PCs explain  [17.44555167 24.44074193 30.65901903 36.38446522 41.40488981 46.19338821\n",
      " 50.24580214 54.14136646 57.92204534 61.55864087 65.17124382 68.54778693\n",
      " 71.79236823 74.88825386 77.83767848 80.70137862 83.37833712 85.93647278\n",
      " 88.25925916 90.54980649] % of variance cumulatively\n"
     ]
    },
    {
     "data": {
      "image/png": "[encoded data removed]",
      "text/plain": [
       "<Figure size 640x480 with 1 Axes>"
      ]
     },
     "metadata": {},
     "output_type": "display_data"
    }
   ],
   "source": [
    "standard_scaler = StandardScaler()\n",
    "\n",
    "pca_std = PCA(n_components=20, random_state=0)\n",
    "X_train_standardized = pca_std.fit_transform(standard_scaler.fit_transform(X_train))\n",
    "print('20 PCs explain ', np.cumsum(pca_std.explained_variance_ratio_)*100, '% of variance cumulatively')\n",
    "# scree plot\n",
    "PC_values = np.arange(pca_std.n_components_) + 1\n",
    "plt.plot(PC_values, pca_std.explained_variance_ratio_, 'ro-', linewidth=2)\n",
    "plt.title('Scree Plot')\n",
    "plt.xlabel('Principal Component')\n",
    "plt.ylabel('Proportion of Variance Explained')\n",
    "plt.show()\n",
    "X_test_standardized = pca_std.transform(standard_scaler.transform(X_test))\n",
    "\n",
    "X_standardized = pca_std.transform(standard_scaler.fit_transform(X))"
   ]
  },
  {
   "cell_type": "markdown",
   "metadata": {
    "id": "SLVuMudd6TkW"
   },
   "source": [
    "Normalization"
   ]
  },
  {
   "cell_type": "code",
   "execution_count": 11,
   "metadata": {
    "colab": {
     "base_uri": "https://localhost:8080/",
     "height": 346
    },
    "executionInfo": {
     "elapsed": 1018,
     "status": "ok",
     "timestamp": 1636894676635,
     "user": {
      "displayName": "Vaibhav Soni",
      "photoUrl": "https://lh3.googleusercontent.com/a/default-user=s64",
      "userId": "13566874675602736975"
     },
     "user_tz": -330
    },
    "id": "0H6bH1YL6SqU",
    "outputId": "6bb20642-154c-4f56-955e-a423ce11f2e1"
   },
   "outputs": [
    {
     "name": "stdout",
     "output_type": "stream",
     "text": [
      "17 PCs explain  [11.52097344 20.44330143 28.67985327 36.31753724 42.61134166 48.23334781\n",
      " 53.36701768 58.09955124 62.64094633 66.81234597 70.37901588 73.84498837\n",
      " 77.15158301 79.93520506 82.65007667 85.17122704 87.59414783] % of variance cumulatively\n"
     ]
    },
    {
     "data": {
      "image/png": "[encoded data removed]",
      "text/plain": [
       "<Figure size 640x480 with 1 Axes>"
      ]
     },
     "metadata": {},
     "output_type": "display_data"
    }
   ],
   "source": [
    "min_max_scaler = MinMaxScaler()\n",
    "\n",
    "pca_norm = PCA(n_components=17, random_state=0)\n",
    "X_train_normalized = pca_norm.fit_transform(min_max_scaler.fit_transform(X_train))\n",
    "print('17 PCs explain ', np.cumsum(pca_norm.explained_variance_ratio_)*100, '% of variance cumulatively')\n",
    "# scree plot\n",
    "PC_values = np.arange(pca_norm.n_components_) + 1\n",
    "plt.plot(PC_values, pca_norm.explained_variance_ratio_, 'ro-', linewidth=2)\n",
    "plt.title('Scree Plot')\n",
    "plt.xlabel('Principal Component')\n",
    "plt.ylabel('Proportion of Variance Explained')\n",
    "plt.show()\n",
    "X_test_normalized = pca_norm.transform(min_max_scaler.transform(X_test))\n",
    "\n",
    "X_normalized = pca_norm.transform(min_max_scaler.fit_transform(X))"
   ]
  },
  {
   "cell_type": "markdown",
   "metadata": {
    "id": "DXJUMLrRR7nw"
   },
   "source": [
    "Full datasets"
   ]
  },
  {
   "cell_type": "code",
   "execution_count": 12,
   "metadata": {
    "executionInfo": {
     "elapsed": 9,
     "status": "ok",
     "timestamp": 1636894676636,
     "user": {
      "displayName": "Vaibhav Soni",
      "photoUrl": "https://lh3.googleusercontent.com/a/default-user=s64",
      "userId": "13566874675602736975"
     },
     "user_tz": -330
    },
    "id": "San3YoDIRMBn"
   },
   "outputs": [],
   "source": [
    "X_train = X_train_pca\n",
    "X_test = pca.transform(X_test)\n",
    "X = pca.transform(X)"
   ]
  },
  {
   "cell_type": "markdown",
   "metadata": {
    "id": "Km-SZW-96fdp"
   },
   "source": [
    "# Hyperparameter tuning using GridSearchCV"
   ]
  },
  {
   "cell_type": "code",
   "execution_count": 13,
   "metadata": {
    "executionInfo": {
     "elapsed": 10,
     "status": "ok",
     "timestamp": 1636894676637,
     "user": {
      "displayName": "Vaibhav Soni",
      "photoUrl": "https://lh3.googleusercontent.com/a/default-user=s64",
      "userId": "13566874675602736975"
     },
     "user_tz": -330
    },
    "id": "hfTbuvI36Vw-"
   },
   "outputs": [],
   "source": [
    "def tune_hyperparameters(model,X,y):\n",
    "  param_grid = {\n",
    "      'C' : [0.1,1,10,100,1000],\n",
    "      'kernel' : ['linear','rbf']\n",
    "  }\n",
    "\n",
    "  grid_search = GridSearchCV(model,param_grid=param_grid)\n",
    "  grid_search.fit(X,y)\n",
    "  print(\"Best Params: \",grid_search.best_params_)\n",
    "  return grid_search.best_params_"
   ]
  },
  {
   "cell_type": "markdown",
   "metadata": {
    "id": "y7BOM6KA_hSI"
   },
   "source": [
    "### With Standardization"
   ]
  },
  {
   "cell_type": "code",
   "execution_count": null,
   "metadata": {
    "colab": {
     "base_uri": "https://localhost:8080/"
    },
    "executionInfo": {
     "elapsed": 44798,
     "status": "ok",
     "timestamp": 1636894721426,
     "user": {
      "displayName": "Vaibhav Soni",
      "photoUrl": "https://lh3.googleusercontent.com/a/default-user=s64",
      "userId": "13566874675602736975"
     },
     "user_tz": -330
    },
    "id": "Dy10sxp2_g8F",
    "outputId": "2554196e-fa47-4a74-b626-62f3fe507b9e"
   },
   "outputs": [],
   "source": [
    "best_parameters_std = tune_hyperparameters(SVC(random_state=0),X_train_standardized,y_train)"
   ]
  },
  {
   "cell_type": "markdown",
   "metadata": {
    "id": "d1GoxDQ2_qVM"
   },
   "source": [
    "### With Normalization"
   ]
  },
  {
   "cell_type": "code",
   "execution_count": null,
   "metadata": {
    "colab": {
     "base_uri": "https://localhost:8080/"
    },
    "executionInfo": {
     "elapsed": 4405,
     "status": "ok",
     "timestamp": 1636894725827,
     "user": {
      "displayName": "Vaibhav Soni",
      "photoUrl": "https://lh3.googleusercontent.com/a/default-user=s64",
      "userId": "13566874675602736975"
     },
     "user_tz": -330
    },
    "id": "_Ly5-0h4_e0s",
    "outputId": "f4ec2eb2-8759-432a-8249-5fcc9f9c1912"
   },
   "outputs": [],
   "source": [
    "best_parameters_norm = tune_hyperparameters(SVC(random_state=0),X_train_normalized,y_train)"
   ]
  },
  {
   "cell_type": "markdown",
   "metadata": {
    "id": "70NQ25ZaIueS"
   },
   "source": [
    "# SVC"
   ]
  },
  {
   "cell_type": "code",
   "execution_count": null,
   "metadata": {
    "executionInfo": {
     "elapsed": 12,
     "status": "ok",
     "timestamp": 1636894725828,
     "user": {
      "displayName": "Vaibhav Soni",
      "photoUrl": "https://lh3.googleusercontent.com/a/default-user=s64",
      "userId": "13566874675602736975"
     },
     "user_tz": -330
    },
    "id": "PeyJ9-eFD7EK"
   },
   "outputs": [],
   "source": [
    "def train_predict_evaluate(model,X_train,y_train,X_test):\n",
    "  model.fit(X_train,y_train)\n",
    "  y_pred = model.predict(X_test)\n",
    "\n",
    "  print(\"Accuracy: \",accuracy_score(y_test,y_pred))\n",
    "  print(\"Precision: \",precision_score(y_test,y_pred))\n",
    "  print(\"Recall: \",recall_score(y_test,y_pred))\n",
    "  print(\"F1 Score: \",f1_score(y_test,y_pred))\n",
    "  print(\"Confusion Matrix:\\n\",confusion_matrix(y_test,y_pred))\n",
    "\n",
    "  \n",
    "  fpr,tpr,thresholds = roc_curve(y_test,y_pred)\n",
    "  plt.plot(fpr, tpr,color='green',label='ROC curve (area = %0.2f)' % auc(fpr,tpr))\n",
    "  plt.plot([0, 1], [0, 1], color='orange', linestyle='--')\n",
    "  plt.xlabel(\"False Positive Rate\")\n",
    "  plt.ylabel(\"True Positive Rate\")\n",
    "  plt.title(\"ROC Curve\")\n",
    "  plt.legend(loc=\"lower right\")\n",
    "  plt.show()"
   ]
  },
  {
   "cell_type": "markdown",
   "metadata": {
    "id": "GNEbkxVqJGl1"
   },
   "source": [
    "### Without Scaling"
   ]
  },
  {
   "cell_type": "code",
   "execution_count": null,
   "metadata": {
    "colab": {
     "base_uri": "https://localhost:8080/",
     "height": 0
    },
    "executionInfo": {
     "elapsed": 12,
     "status": "ok",
     "timestamp": 1636894725829,
     "user": {
      "displayName": "Vaibhav Soni",
      "photoUrl": "https://lh3.googleusercontent.com/a/default-user=s64",
      "userId": "13566874675602736975"
     },
     "user_tz": -330
    },
    "id": "7am2MphgJE1P",
    "outputId": "8ced58ae-884b-4e2d-aa3f-57d4a90178c3"
   },
   "outputs": [],
   "source": [
    "train_predict_evaluate(SVC(random_state=0),X_train,y_train,X_test)"
   ]
  },
  {
   "cell_type": "markdown",
   "metadata": {
    "id": "pbCGCXWTJWM_"
   },
   "source": [
    "### With Standardization"
   ]
  },
  {
   "cell_type": "code",
   "execution_count": null,
   "metadata": {
    "colab": {
     "base_uri": "https://localhost:8080/",
     "height": 0
    },
    "executionInfo": {
     "elapsed": 1515,
     "status": "ok",
     "timestamp": 1636894727335,
     "user": {
      "displayName": "Vaibhav Soni",
      "photoUrl": "https://lh3.googleusercontent.com/a/default-user=s64",
      "userId": "13566874675602736975"
     },
     "user_tz": -330
    },
    "id": "-eL6L3g4JRCr",
    "outputId": "673f1c20-c701-48f3-a41b-b3a0cf974453"
   },
   "outputs": [],
   "source": [
    "train_predict_evaluate(SVC(random_state=0,**best_parameters_std),X_train_standardized,y_train,X_test_standardized)"
   ]
  },
  {
   "cell_type": "markdown",
   "metadata": {
    "id": "yJdLrywWJ8C2"
   },
   "source": [
    "### With Normalization"
   ]
  },
  {
   "cell_type": "code",
   "execution_count": null,
   "metadata": {
    "colab": {
     "base_uri": "https://localhost:8080/",
     "height": 0
    },
    "executionInfo": {
     "elapsed": 36,
     "status": "ok",
     "timestamp": 1636894727337,
     "user": {
      "displayName": "Vaibhav Soni",
      "photoUrl": "https://lh3.googleusercontent.com/a/default-user=s64",
      "userId": "13566874675602736975"
     },
     "user_tz": -330
    },
    "id": "Gb9_AGqoJ3pM",
    "outputId": "90e813a8-a8eb-4ab9-e1db-d946214b8d9d"
   },
   "outputs": [],
   "source": [
    "train_predict_evaluate(SVC(random_state=0,**best_parameters_norm),X_train_normalized,y_train,X_test_normalized)"
   ]
  },
  {
   "cell_type": "markdown",
   "metadata": {
    "id": "TPnVWgIgKgss"
   },
   "source": [
    "# K-Fold Cross Validation"
   ]
  },
  {
   "cell_type": "code",
   "execution_count": null,
   "metadata": {
    "executionInfo": {
     "elapsed": 32,
     "status": "ok",
     "timestamp": 1636894727337,
     "user": {
      "displayName": "Vaibhav Soni",
      "photoUrl": "https://lh3.googleusercontent.com/a/default-user=s64",
      "userId": "13566874675602736975"
     },
     "user_tz": -330
    },
    "id": "CYVvaM_UKYJV"
   },
   "outputs": [],
   "source": [
    "def cross_validation(model,X,y):\n",
    "  scores = cross_validate(model, X, y, cv=5,scoring=('accuracy','precision','recall','f1'))\n",
    "\n",
    "  metrics = []\n",
    "  metrics.append(np.mean(scores['test_accuracy']))\n",
    "  metrics.append(np.mean(scores['test_precision']))\n",
    "  metrics.append(np.mean(scores['test_recall']))\n",
    "  metrics.append(np.mean(scores['test_f1']))\n",
    "\n",
    "  print(\"Accuracy: \",metrics[0])\n",
    "  print(\"Precision: \",metrics[1])\n",
    "  print(\"Recall: \",metrics[2])\n",
    "  print(\"F1 Score: \",metrics[3])\n",
    "\n",
    "  return metrics"
   ]
  },
  {
   "cell_type": "code",
   "execution_count": null,
   "metadata": {
    "executionInfo": {
     "elapsed": 32,
     "status": "ok",
     "timestamp": 1636894727338,
     "user": {
      "displayName": "Vaibhav Soni",
      "photoUrl": "https://lh3.googleusercontent.com/a/default-user=s64",
      "userId": "13566874675602736975"
     },
     "user_tz": -330
    },
    "id": "TPFoTi-WKl4P"
   },
   "outputs": [],
   "source": [
    "metrics = []"
   ]
  },
  {
   "cell_type": "markdown",
   "metadata": {
    "id": "p4V47h3mLEMa"
   },
   "source": [
    "### Without Scaling"
   ]
  },
  {
   "cell_type": "code",
   "execution_count": null,
   "metadata": {
    "colab": {
     "base_uri": "https://localhost:8080/"
    },
    "executionInfo": {
     "elapsed": 31,
     "status": "ok",
     "timestamp": 1636894727338,
     "user": {
      "displayName": "Vaibhav Soni",
      "photoUrl": "https://lh3.googleusercontent.com/a/default-user=s64",
      "userId": "13566874675602736975"
     },
     "user_tz": -330
    },
    "id": "1pKYvLZQKnSB",
    "outputId": "42ce1586-80f7-48f7-aeb5-b28333ed6b5f"
   },
   "outputs": [],
   "source": [
    "metrics.append(cross_validation(SVC(random_state=0),X,y))"
   ]
  },
  {
   "cell_type": "markdown",
   "metadata": {
    "id": "qalt1h3wNcf-"
   },
   "source": [
    "### With Standardization"
   ]
  },
  {
   "cell_type": "code",
   "execution_count": null,
   "metadata": {
    "colab": {
     "base_uri": "https://localhost:8080/"
    },
    "executionInfo": {
     "elapsed": 30,
     "status": "ok",
     "timestamp": 1636894727339,
     "user": {
      "displayName": "Vaibhav Soni",
      "photoUrl": "https://lh3.googleusercontent.com/a/default-user=s64",
      "userId": "13566874675602736975"
     },
     "user_tz": -330
    },
    "id": "OkbydzhvLOeg",
    "outputId": "c876e167-47e8-4ea3-e616-db3b08854cd5"
   },
   "outputs": [],
   "source": [
    "metrics.append(cross_validation(SVC(random_state=0,**best_parameters_std),X_standardized,y))"
   ]
  },
  {
   "cell_type": "code",
   "execution_count": null,
   "metadata": {
    "colab": {
     "base_uri": "https://localhost:8080/"
    },
    "executionInfo": {
     "elapsed": 29,
     "status": "ok",
     "timestamp": 1636894727340,
     "user": {
      "displayName": "Vaibhav Soni",
      "photoUrl": "https://lh3.googleusercontent.com/a/default-user=s64",
      "userId": "13566874675602736975"
     },
     "user_tz": -330
    },
    "id": "ij8b-bkZNXl9",
    "outputId": "d674d6d7-b919-4c6b-f76f-1d191d602678"
   },
   "outputs": [],
   "source": [
    "metrics.append(cross_validation(SVC(random_state=0,**best_parameters_norm),X_normalized,y))"
   ]
  },
  {
   "cell_type": "markdown",
   "metadata": {
    "id": "kLT3xw1VNpOh"
   },
   "source": [
    "# Performance and Comparison Plots"
   ]
  },
  {
   "cell_type": "code",
   "execution_count": null,
   "metadata": {
    "colab": {
     "base_uri": "https://localhost:8080/",
     "height": 0
    },
    "executionInfo": {
     "elapsed": 33,
     "status": "ok",
     "timestamp": 1636894727345,
     "user": {
      "displayName": "Vaibhav Soni",
      "photoUrl": "https://lh3.googleusercontent.com/a/default-user=s64",
      "userId": "13566874675602736975"
     },
     "user_tz": -330
    },
    "id": "SCeU-8X5Nmfc",
    "outputId": "2d055a3a-61b5-44d1-be69-0524f8cb8e07"
   },
   "outputs": [],
   "source": [
    "mdf = pd.DataFrame(metrics,columns=[\"Accuracy\",\"Precision\",\"Recall\",\"F1 Score\"],index=[\"Without Scaling\",\"With Standardization\",\"With Normalization\"])\n",
    "mdf.head()"
   ]
  },
  {
   "cell_type": "code",
   "execution_count": null,
   "metadata": {
    "colab": {
     "base_uri": "https://localhost:8080/",
     "height": 0
    },
    "executionInfo": {
     "elapsed": 33,
     "status": "ok",
     "timestamp": 1636894727346,
     "user": {
      "displayName": "Vaibhav Soni",
      "photoUrl": "https://lh3.googleusercontent.com/a/default-user=s64",
      "userId": "13566874675602736975"
     },
     "user_tz": -330
    },
    "id": "DgPS2iJtN7g3",
    "outputId": "06179c4a-022a-464e-b456-6ce55691a377"
   },
   "outputs": [],
   "source": [
    "mdf['Accuracy'].plot()\n",
    "plt.ylabel(\"Accuracy\")\n",
    "plt.show()"
   ]
  },
  {
   "cell_type": "code",
   "execution_count": null,
   "metadata": {
    "colab": {
     "base_uri": "https://localhost:8080/",
     "height": 0
    },
    "executionInfo": {
     "elapsed": 32,
     "status": "ok",
     "timestamp": 1636894727346,
     "user": {
      "displayName": "Vaibhav Soni",
      "photoUrl": "https://lh3.googleusercontent.com/a/default-user=s64",
      "userId": "13566874675602736975"
     },
     "user_tz": -330
    },
    "id": "SHYY--yAN-A4",
    "outputId": "185b86c6-3380-4397-f008-895843a692e6"
   },
   "outputs": [],
   "source": [
    "mdf['Precision'].plot()\n",
    "plt.ylabel(\"Precision\")\n",
    "plt.show()"
   ]
  },
  {
   "cell_type": "code",
   "execution_count": null,
   "metadata": {
    "colab": {
     "base_uri": "https://localhost:8080/",
     "height": 0
    },
    "executionInfo": {
     "elapsed": 1512,
     "status": "ok",
     "timestamp": 1636894728827,
     "user": {
      "displayName": "Vaibhav Soni",
      "photoUrl": "https://lh3.googleusercontent.com/a/default-user=s64",
      "userId": "13566874675602736975"
     },
     "user_tz": -330
    },
    "id": "0HQ6RPYsN_pO",
    "outputId": "97fcb791-2db1-4d24-ad6a-2e3cf7ba1e80"
   },
   "outputs": [],
   "source": [
    "mdf['Recall'].plot()\n",
    "plt.ylabel(\"Recall\")\n",
    "plt.show()"
   ]
  },
  {
   "cell_type": "code",
   "execution_count": null,
   "metadata": {
    "colab": {
     "base_uri": "https://localhost:8080/",
     "height": 0
    },
    "executionInfo": {
     "elapsed": 55,
     "status": "ok",
     "timestamp": 1636894728828,
     "user": {
      "displayName": "Vaibhav Soni",
      "photoUrl": "https://lh3.googleusercontent.com/a/default-user=s64",
      "userId": "13566874675602736975"
     },
     "user_tz": -330
    },
    "id": "epbwDadNOA6-",
    "outputId": "963e62df-5426-4362-fd10-7e54703f2fc5"
   },
   "outputs": [],
   "source": [
    "mdf['F1 Score'].plot()\n",
    "plt.ylabel(\"F1 Score\")\n",
    "plt.show()"
   ]
  },
  {
   "cell_type": "code",
   "execution_count": null,
   "metadata": {
    "executionInfo": {
     "elapsed": 52,
     "status": "ok",
     "timestamp": 1636894728829,
     "user": {
      "displayName": "Vaibhav Soni",
      "photoUrl": "https://lh3.googleusercontent.com/a/default-user=s64",
      "userId": "13566874675602736975"
     },
     "user_tz": -330
    },
    "id": "1Z6SIvRsOChN"
   },
   "outputs": [],
   "source": []
  },
  {
   "cell_type": "markdown",
   "metadata": {
    "id": "mq_PKBK_fKQa"
   },
   "source": [
    "# Oversampling\n"
   ]
  },
  {
   "cell_type": "code",
   "execution_count": null,
   "metadata": {
    "executionInfo": {
     "elapsed": 52,
     "status": "ok",
     "timestamp": 1636894728830,
     "user": {
      "displayName": "Vaibhav Soni",
      "photoUrl": "https://lh3.googleusercontent.com/a/default-user=s64",
      "userId": "13566874675602736975"
     },
     "user_tz": -330
    },
    "id": "kQRWMYt_fPYW"
   },
   "outputs": [],
   "source": [
    "X=X2\n",
    "y=Y2"
   ]
  },
  {
   "cell_type": "markdown",
   "metadata": {
    "id": "h0AZ4NoShGVF"
   },
   "source": [
    "# Spliting into Train and Test Sets"
   ]
  },
  {
   "cell_type": "code",
   "execution_count": null,
   "metadata": {
    "executionInfo": {
     "elapsed": 51,
     "status": "ok",
     "timestamp": 1636894728830,
     "user": {
      "displayName": "Vaibhav Soni",
      "photoUrl": "https://lh3.googleusercontent.com/a/default-user=s64",
      "userId": "13566874675602736975"
     },
     "user_tz": -330
    },
    "id": "1eiz9phBhGVF"
   },
   "outputs": [],
   "source": [
    "X_train, X_test, y_train, y_test = train_test_split(X,y,test_size=0.3,random_state=1)"
   ]
  },
  {
   "cell_type": "markdown",
   "metadata": {
    "id": "Z15pOOf0hGVF"
   },
   "source": [
    "# Feature Scaling"
   ]
  },
  {
   "cell_type": "markdown",
   "metadata": {
    "id": "ky6MIsR3hGVF"
   },
   "source": [
    "####PCA"
   ]
  },
  {
   "cell_type": "code",
   "execution_count": null,
   "metadata": {
    "colab": {
     "base_uri": "https://localhost:8080/",
     "height": 0
    },
    "executionInfo": {
     "elapsed": 50,
     "status": "ok",
     "timestamp": 1636894728831,
     "user": {
      "displayName": "Vaibhav Soni",
      "photoUrl": "https://lh3.googleusercontent.com/a/default-user=s64",
      "userId": "13566874675602736975"
     },
     "user_tz": -330
    },
    "id": "1mLptX4shGVF",
    "outputId": "08ae51a8-014c-40ab-faba-f1305d2dc739"
   },
   "outputs": [],
   "source": [
    "pca = PCA(n_components=2, random_state=0)\n",
    "X_train_pca = pca.fit_transform(X_train)\n",
    "print('20 PCs explain ', np.cumsum(pca.explained_variance_ratio_)*100, '% of variance cumulatively')\n",
    "# scree plot\n",
    "PC_values = np.arange(pca.n_components_) + 1\n",
    "plt.plot(PC_values, pca.explained_variance_ratio_, 'ro-', linewidth=2)\n",
    "plt.title('Scree Plot')\n",
    "plt.xlabel('Principal Component')\n",
    "plt.ylabel('Proportion of Variance Explained')\n",
    "plt.show()"
   ]
  },
  {
   "cell_type": "markdown",
   "metadata": {
    "id": "LHPZuLvBhGVG"
   },
   "source": [
    "Standardization"
   ]
  },
  {
   "cell_type": "code",
   "execution_count": null,
   "metadata": {
    "colab": {
     "base_uri": "https://localhost:8080/",
     "height": 0
    },
    "executionInfo": {
     "elapsed": 47,
     "status": "ok",
     "timestamp": 1636894728832,
     "user": {
      "displayName": "Vaibhav Soni",
      "photoUrl": "https://lh3.googleusercontent.com/a/default-user=s64",
      "userId": "13566874675602736975"
     },
     "user_tz": -330
    },
    "id": "F1CAqMPChGVG",
    "outputId": "8200d339-84d1-4698-bda7-7210f979a8d9"
   },
   "outputs": [],
   "source": [
    "standard_scaler = StandardScaler()\n",
    "\n",
    "pca_std = PCA(n_components=20, random_state=0)\n",
    "X_train_standardized = pca_std.fit_transform(standard_scaler.fit_transform(X_train))\n",
    "print('20 PCs explain ', np.cumsum(pca_std.explained_variance_ratio_)*100, '% of variance cumulatively')\n",
    "# scree plot\n",
    "PC_values = np.arange(pca_std.n_components_) + 1\n",
    "plt.plot(PC_values, pca_std.explained_variance_ratio_, 'ro-', linewidth=2)\n",
    "plt.title('Scree Plot')\n",
    "plt.xlabel('Principal Component')\n",
    "plt.ylabel('Proportion of Variance Explained')\n",
    "plt.show()\n",
    "X_test_standardized = pca_std.transform(standard_scaler.transform(X_test))\n",
    "\n",
    "X_standardized = pca_std.transform(standard_scaler.fit_transform(X))"
   ]
  },
  {
   "cell_type": "markdown",
   "metadata": {
    "id": "xz1q5t3YhGVG"
   },
   "source": [
    "Normalization"
   ]
  },
  {
   "cell_type": "code",
   "execution_count": null,
   "metadata": {
    "colab": {
     "base_uri": "https://localhost:8080/",
     "height": 0
    },
    "executionInfo": {
     "elapsed": 45,
     "status": "ok",
     "timestamp": 1636894728833,
     "user": {
      "displayName": "Vaibhav Soni",
      "photoUrl": "https://lh3.googleusercontent.com/a/default-user=s64",
      "userId": "13566874675602736975"
     },
     "user_tz": -330
    },
    "id": "fZuJSY71hGVG",
    "outputId": "69217171-9233-4a68-d1c6-653331a2709b"
   },
   "outputs": [],
   "source": [
    "min_max_scaler = MinMaxScaler()\n",
    "\n",
    "pca_norm = PCA(n_components=17, random_state=0)\n",
    "X_train_normalized = pca_norm.fit_transform(min_max_scaler.fit_transform(X_train))\n",
    "print('17 PCs explain ', np.cumsum(pca_norm.explained_variance_ratio_)*100, '% of variance cumulatively')\n",
    "# scree plot\n",
    "PC_values = np.arange(pca_norm.n_components_) + 1\n",
    "plt.plot(PC_values, pca_norm.explained_variance_ratio_, 'ro-', linewidth=2)\n",
    "plt.title('Scree Plot')\n",
    "plt.xlabel('Principal Component')\n",
    "plt.ylabel('Proportion of Variance Explained')\n",
    "plt.show()\n",
    "X_test_normalized = pca_norm.transform(min_max_scaler.transform(X_test))\n",
    "\n",
    "X_normalized = pca_norm.transform(min_max_scaler.fit_transform(X))"
   ]
  },
  {
   "cell_type": "markdown",
   "metadata": {
    "id": "UV81ZaTKhGVG"
   },
   "source": [
    "Full datasets"
   ]
  },
  {
   "cell_type": "code",
   "execution_count": null,
   "metadata": {
    "executionInfo": {
     "elapsed": 42,
     "status": "ok",
     "timestamp": 1636894728833,
     "user": {
      "displayName": "Vaibhav Soni",
      "photoUrl": "https://lh3.googleusercontent.com/a/default-user=s64",
      "userId": "13566874675602736975"
     },
     "user_tz": -330
    },
    "id": "x-jQeyQghGVG"
   },
   "outputs": [],
   "source": [
    "X_train = X_train_pca\n",
    "X_test = pca.transform(X_test)\n",
    "X = pca.transform(X)"
   ]
  },
  {
   "cell_type": "markdown",
   "metadata": {
    "id": "7XFYxjrdhGVG"
   },
   "source": [
    "# Hyperparameter tuning using GridSearchCV"
   ]
  },
  {
   "cell_type": "code",
   "execution_count": null,
   "metadata": {
    "executionInfo": {
     "elapsed": 41,
     "status": "ok",
     "timestamp": 1636894728834,
     "user": {
      "displayName": "Vaibhav Soni",
      "photoUrl": "https://lh3.googleusercontent.com/a/default-user=s64",
      "userId": "13566874675602736975"
     },
     "user_tz": -330
    },
    "id": "PseQ-ZElhGVG"
   },
   "outputs": [],
   "source": [
    "def tune_hyperparameters(model,X,y):\n",
    "  param_grid = {\n",
    "      'C' : [0.1,1,10,100,1000],\n",
    "      'kernel' : ['linear','rbf']\n",
    "  }\n",
    "\n",
    "  grid_search = GridSearchCV(model,param_grid=param_grid)\n",
    "  grid_search.fit(X,y)\n",
    "  print(\"Best Params: \",grid_search.best_params_)\n",
    "  return grid_search.best_params_"
   ]
  },
  {
   "cell_type": "markdown",
   "metadata": {
    "id": "oI4jdRsvhGVG"
   },
   "source": [
    "### With Standardization"
   ]
  },
  {
   "cell_type": "code",
   "execution_count": null,
   "metadata": {
    "colab": {
     "base_uri": "https://localhost:8080/"
    },
    "executionInfo": {
     "elapsed": 530284,
     "status": "ok",
     "timestamp": 1636895259079,
     "user": {
      "displayName": "Vaibhav Soni",
      "photoUrl": "https://lh3.googleusercontent.com/a/default-user=s64",
      "userId": "13566874675602736975"
     },
     "user_tz": -330
    },
    "id": "3pSwwIBWhGVG",
    "outputId": "dd2dc9fa-af31-478f-ce41-a3dab128939d"
   },
   "outputs": [],
   "source": [
    "best_parameters_std = tune_hyperparameters(SVC(random_state=0),X_train_standardized,y_train)"
   ]
  },
  {
   "cell_type": "markdown",
   "metadata": {
    "id": "v8T2ZGSrhGVH"
   },
   "source": [
    "### With Normalization"
   ]
  },
  {
   "cell_type": "code",
   "execution_count": null,
   "metadata": {
    "colab": {
     "base_uri": "https://localhost:8080/"
    },
    "executionInfo": {
     "elapsed": 47667,
     "status": "ok",
     "timestamp": 1636895306742,
     "user": {
      "displayName": "Vaibhav Soni",
      "photoUrl": "https://lh3.googleusercontent.com/a/default-user=s64",
      "userId": "13566874675602736975"
     },
     "user_tz": -330
    },
    "id": "AkxmMTjDhGVH",
    "outputId": "30377a86-b541-4188-e6d7-3136ee7c8334"
   },
   "outputs": [],
   "source": [
    "best_parameters_norm = tune_hyperparameters(SVC(random_state=0),X_train_normalized,y_train)"
   ]
  },
  {
   "cell_type": "markdown",
   "metadata": {
    "id": "SR_GkIpjhGVH"
   },
   "source": [
    "# SVC"
   ]
  },
  {
   "cell_type": "code",
   "execution_count": null,
   "metadata": {
    "executionInfo": {
     "elapsed": 15,
     "status": "ok",
     "timestamp": 1636895306743,
     "user": {
      "displayName": "Vaibhav Soni",
      "photoUrl": "https://lh3.googleusercontent.com/a/default-user=s64",
      "userId": "13566874675602736975"
     },
     "user_tz": -330
    },
    "id": "YEtOjdNwhGVH"
   },
   "outputs": [],
   "source": [
    "def train_predict_evaluate(model,X_train,y_train,X_test):\n",
    "  model.fit(X_train,y_train)\n",
    "  y_pred = model.predict(X_test)\n",
    "\n",
    "  print(\"Accuracy: \",accuracy_score(y_test,y_pred))\n",
    "  print(\"Precision: \",precision_score(y_test,y_pred))\n",
    "  print(\"Recall: \",recall_score(y_test,y_pred))\n",
    "  print(\"F1 Score: \",f1_score(y_test,y_pred))\n",
    "  print(\"Confusion Matrix:\\n\",confusion_matrix(y_test,y_pred))\n",
    "\n",
    "  \n",
    "  fpr,tpr,thresholds = roc_curve(y_test,y_pred)\n",
    "  plt.plot(fpr, tpr,color='green',label='ROC curve (area = %0.2f)' % auc(fpr,tpr))\n",
    "  plt.plot([0, 1], [0, 1], color='orange', linestyle='--')\n",
    "  plt.xlabel(\"False Positive Rate\")\n",
    "  plt.ylabel(\"True Positive Rate\")\n",
    "  plt.title(\"ROC Curve\")\n",
    "  plt.legend(loc=\"lower right\")\n",
    "  plt.show()"
   ]
  },
  {
   "cell_type": "markdown",
   "metadata": {
    "id": "vtfF4yzyhGVH"
   },
   "source": [
    "### Without Scaling"
   ]
  },
  {
   "cell_type": "code",
   "execution_count": null,
   "metadata": {
    "colab": {
     "base_uri": "https://localhost:8080/",
     "height": 0
    },
    "executionInfo": {
     "elapsed": 14,
     "status": "ok",
     "timestamp": 1636895306744,
     "user": {
      "displayName": "Vaibhav Soni",
      "photoUrl": "https://lh3.googleusercontent.com/a/default-user=s64",
      "userId": "13566874675602736975"
     },
     "user_tz": -330
    },
    "id": "B6eerjOnhGVH",
    "outputId": "b743cde3-b75e-4aea-ecf2-f3e5f0718120"
   },
   "outputs": [],
   "source": [
    "train_predict_evaluate(SVC(random_state=0),X_train,y_train,X_test)"
   ]
  },
  {
   "cell_type": "markdown",
   "metadata": {
    "id": "9JKEJ0q5hGVH"
   },
   "source": [
    "### With Standardization"
   ]
  },
  {
   "cell_type": "code",
   "execution_count": null,
   "metadata": {
    "colab": {
     "base_uri": "https://localhost:8080/",
     "height": 0
    },
    "executionInfo": {
     "elapsed": 1195,
     "status": "ok",
     "timestamp": 1636895307929,
     "user": {
      "displayName": "Vaibhav Soni",
      "photoUrl": "https://lh3.googleusercontent.com/a/default-user=s64",
      "userId": "13566874675602736975"
     },
     "user_tz": -330
    },
    "id": "nf0W2TNnhGVH",
    "outputId": "81a6b0cc-15ee-4d29-9658-e34813ca2d52"
   },
   "outputs": [],
   "source": [
    "train_predict_evaluate(SVC(random_state=0,**best_parameters_std),X_train_standardized,y_train,X_test_standardized)"
   ]
  },
  {
   "cell_type": "markdown",
   "metadata": {
    "id": "LVPvHzo0hGVH"
   },
   "source": [
    "### With Normalization"
   ]
  },
  {
   "cell_type": "code",
   "execution_count": null,
   "metadata": {
    "colab": {
     "base_uri": "https://localhost:8080/",
     "height": 0
    },
    "executionInfo": {
     "elapsed": 15,
     "status": "ok",
     "timestamp": 1636895307930,
     "user": {
      "displayName": "Vaibhav Soni",
      "photoUrl": "https://lh3.googleusercontent.com/a/default-user=s64",
      "userId": "13566874675602736975"
     },
     "user_tz": -330
    },
    "id": "iyNq11OXhGVI",
    "outputId": "9013875f-41c2-499b-905c-3fa389dd652f"
   },
   "outputs": [],
   "source": [
    "train_predict_evaluate(SVC(random_state=0,**best_parameters_norm),X_train_normalized,y_train,X_test_normalized)"
   ]
  },
  {
   "cell_type": "markdown",
   "metadata": {
    "id": "92j78EOdhGVI"
   },
   "source": [
    "# K-Fold Cross Validation"
   ]
  },
  {
   "cell_type": "code",
   "execution_count": null,
   "metadata": {
    "executionInfo": {
     "elapsed": 13,
     "status": "ok",
     "timestamp": 1636895307931,
     "user": {
      "displayName": "Vaibhav Soni",
      "photoUrl": "https://lh3.googleusercontent.com/a/default-user=s64",
      "userId": "13566874675602736975"
     },
     "user_tz": -330
    },
    "id": "HHdSBnPKhGVI"
   },
   "outputs": [],
   "source": [
    "def cross_validation(model,X,y):\n",
    "  scores = cross_validate(model, X, y, cv=5,scoring=('accuracy','precision','recall','f1'))\n",
    "\n",
    "  metrics = []\n",
    "  metrics.append(np.mean(scores['test_accuracy']))\n",
    "  metrics.append(np.mean(scores['test_precision']))\n",
    "  metrics.append(np.mean(scores['test_recall']))\n",
    "  metrics.append(np.mean(scores['test_f1']))\n",
    "\n",
    "  print(\"Accuracy: \",metrics[0])\n",
    "  print(\"Precision: \",metrics[1])\n",
    "  print(\"Recall: \",metrics[2])\n",
    "  print(\"F1 Score: \",metrics[3])\n",
    "\n",
    "  return metrics"
   ]
  },
  {
   "cell_type": "code",
   "execution_count": null,
   "metadata": {
    "executionInfo": {
     "elapsed": 14,
     "status": "ok",
     "timestamp": 1636895307932,
     "user": {
      "displayName": "Vaibhav Soni",
      "photoUrl": "https://lh3.googleusercontent.com/a/default-user=s64",
      "userId": "13566874675602736975"
     },
     "user_tz": -330
    },
    "id": "Nax30po7hGVI"
   },
   "outputs": [],
   "source": [
    "metrics = []"
   ]
  },
  {
   "cell_type": "markdown",
   "metadata": {
    "id": "d-9Ao1c-hGVI"
   },
   "source": [
    "### Without Scaling"
   ]
  },
  {
   "cell_type": "code",
   "execution_count": null,
   "metadata": {
    "colab": {
     "base_uri": "https://localhost:8080/"
    },
    "executionInfo": {
     "elapsed": 705,
     "status": "ok",
     "timestamp": 1636895308624,
     "user": {
      "displayName": "Vaibhav Soni",
      "photoUrl": "https://lh3.googleusercontent.com/a/default-user=s64",
      "userId": "13566874675602736975"
     },
     "user_tz": -330
    },
    "id": "IZgahSG2hGVI",
    "outputId": "64cf6b9f-dba8-4357-ca62-79c5f4c7d75d"
   },
   "outputs": [],
   "source": [
    "metrics.append(cross_validation(SVC(random_state=0),X,y))"
   ]
  },
  {
   "cell_type": "markdown",
   "metadata": {
    "id": "Aso2sYi7hGVI"
   },
   "source": [
    "### With Standardization"
   ]
  },
  {
   "cell_type": "code",
   "execution_count": null,
   "metadata": {
    "colab": {
     "base_uri": "https://localhost:8080/"
    },
    "executionInfo": {
     "elapsed": 493,
     "status": "ok",
     "timestamp": 1636895309114,
     "user": {
      "displayName": "Vaibhav Soni",
      "photoUrl": "https://lh3.googleusercontent.com/a/default-user=s64",
      "userId": "13566874675602736975"
     },
     "user_tz": -330
    },
    "id": "-e_7Kr3ahGVI",
    "outputId": "39a60908-223b-4b60-bfe6-be2da761cf29"
   },
   "outputs": [],
   "source": [
    "metrics.append(cross_validation(SVC(random_state=0,**best_parameters_std),X_standardized,y))"
   ]
  },
  {
   "cell_type": "code",
   "execution_count": null,
   "metadata": {
    "colab": {
     "base_uri": "https://localhost:8080/"
    },
    "executionInfo": {
     "elapsed": 1169,
     "status": "ok",
     "timestamp": 1636895310280,
     "user": {
      "displayName": "Vaibhav Soni",
      "photoUrl": "https://lh3.googleusercontent.com/a/default-user=s64",
      "userId": "13566874675602736975"
     },
     "user_tz": -330
    },
    "id": "x_lpL4n_hGVI",
    "outputId": "e11c1fd7-fab2-4763-e180-fde537a992d1"
   },
   "outputs": [],
   "source": [
    "metrics.append(cross_validation(SVC(random_state=0,**best_parameters_norm),X_normalized,y))"
   ]
  },
  {
   "cell_type": "markdown",
   "metadata": {
    "id": "rB-SKeXfhGVI"
   },
   "source": [
    "# Performance and Comparison Plots"
   ]
  },
  {
   "cell_type": "code",
   "execution_count": null,
   "metadata": {
    "colab": {
     "base_uri": "https://localhost:8080/",
     "height": 0
    },
    "executionInfo": {
     "elapsed": 13,
     "status": "ok",
     "timestamp": 1636895310281,
     "user": {
      "displayName": "Vaibhav Soni",
      "photoUrl": "https://lh3.googleusercontent.com/a/default-user=s64",
      "userId": "13566874675602736975"
     },
     "user_tz": -330
    },
    "id": "SFs4xR-ChGVJ",
    "outputId": "689dfdf8-da1f-4ac5-8682-30ae065878ef"
   },
   "outputs": [],
   "source": [
    "mdf = pd.DataFrame(metrics,columns=[\"Accuracy\",\"Precision\",\"Recall\",\"F1 Score\"],index=[\"Without Scaling\",\"With Standardization\",\"With Normalization\"])\n",
    "mdf.head()"
   ]
  },
  {
   "cell_type": "code",
   "execution_count": null,
   "metadata": {
    "colab": {
     "base_uri": "https://localhost:8080/",
     "height": 0
    },
    "executionInfo": {
     "elapsed": 13,
     "status": "ok",
     "timestamp": 1636895310282,
     "user": {
      "displayName": "Vaibhav Soni",
      "photoUrl": "https://lh3.googleusercontent.com/a/default-user=s64",
      "userId": "13566874675602736975"
     },
     "user_tz": -330
    },
    "id": "majfZvzThGVJ",
    "outputId": "ab826df7-780d-4055-958d-bd8cfd20f73e"
   },
   "outputs": [],
   "source": [
    "mdf['Accuracy'].plot()\n",
    "plt.ylabel(\"Accuracy\")\n",
    "plt.show()"
   ]
  },
  {
   "cell_type": "code",
   "execution_count": null,
   "metadata": {
    "colab": {
     "base_uri": "https://localhost:8080/",
     "height": 0
    },
    "executionInfo": {
     "elapsed": 14,
     "status": "ok",
     "timestamp": 1636895310283,
     "user": {
      "displayName": "Vaibhav Soni",
      "photoUrl": "https://lh3.googleusercontent.com/a/default-user=s64",
      "userId": "13566874675602736975"
     },
     "user_tz": -330
    },
    "id": "RsMSNWu5hGVJ",
    "outputId": "663d333d-2196-48f0-acb1-3cdda4be41b2"
   },
   "outputs": [],
   "source": [
    "mdf['Precision'].plot()\n",
    "plt.ylabel(\"Precision\")\n",
    "plt.show()"
   ]
  },
  {
   "cell_type": "code",
   "execution_count": null,
   "metadata": {
    "colab": {
     "base_uri": "https://localhost:8080/",
     "height": 0
    },
    "executionInfo": {
     "elapsed": 1176,
     "status": "ok",
     "timestamp": 1636895311446,
     "user": {
      "displayName": "Vaibhav Soni",
      "photoUrl": "https://lh3.googleusercontent.com/a/default-user=s64",
      "userId": "13566874675602736975"
     },
     "user_tz": -330
    },
    "id": "y7-27whqhGVJ",
    "outputId": "ad6fa350-b3cd-46d4-e945-d6b8cf607930"
   },
   "outputs": [],
   "source": [
    "mdf['Recall'].plot()\n",
    "plt.ylabel(\"Recall\")\n",
    "plt.show()"
   ]
  },
  {
   "cell_type": "code",
   "execution_count": null,
   "metadata": {
    "colab": {
     "base_uri": "https://localhost:8080/",
     "height": 0
    },
    "executionInfo": {
     "elapsed": 23,
     "status": "ok",
     "timestamp": 1636895311446,
     "user": {
      "displayName": "Vaibhav Soni",
      "photoUrl": "https://lh3.googleusercontent.com/a/default-user=s64",
      "userId": "13566874675602736975"
     },
     "user_tz": -330
    },
    "id": "7fVtm1yVhGVJ",
    "outputId": "1512559e-7669-4291-9671-c6889f099a1b"
   },
   "outputs": [],
   "source": [
    "mdf['F1 Score'].plot()\n",
    "plt.ylabel(\"F1 Score\")\n",
    "plt.show()"
   ]
  },
  {
   "cell_type": "code",
   "execution_count": null,
   "metadata": {
    "executionInfo": {
     "elapsed": 22,
     "status": "ok",
     "timestamp": 1636895311447,
     "user": {
      "displayName": "Vaibhav Soni",
      "photoUrl": "https://lh3.googleusercontent.com/a/default-user=s64",
      "userId": "13566874675602736975"
     },
     "user_tz": -330
    },
    "id": "ApLN4zZYhGVJ"
   },
   "outputs": [],
   "source": []
  }
 ],
 "metadata": {
  "colab": {
   "collapsed_sections": [],
   "name": "Final SVC with PCA.ipynb",
   "provenance": [
    {
     "file_id": "1lnY_TAjJFelyOiOfDGqaELDVz3xP72lG",
     "timestamp": 1636893669746
    }
   ],
   "toc_visible": true
  },
  "kernelspec": {
   "display_name": "Python 3 (ipykernel)",
   "language": "python",
   "name": "python3"
  },
  "language_info": {
   "codemirror_mode": {
    "name": "ipython",
    "version": 3
   },
   "file_extension": ".py",
   "mimetype": "text/x-python",
   "name": "python",
   "nbconvert_exporter": "python",
   "pygments_lexer": "ipython3",
   "version": "3.11.3"
  }
 },
 "nbformat": 4,
 "nbformat_minor": 1
}
